{
 "cells": [
  {
   "cell_type": "code",
   "execution_count": 1,
   "metadata": {},
   "outputs": [
    {
     "data": {
      "text/html": [
       "<style>.container { width:100% !important; }</style>"
      ],
      "text/plain": [
       "<IPython.core.display.HTML object>"
      ]
     },
     "metadata": {},
     "output_type": "display_data"
    }
   ],
   "source": [
    "import pandas as pd\n",
    "\n",
    "from IPython.core.display import display, HTML\n",
    "display(HTML(\"<style>.container { width:100% !important; }</style>\"))\n",
    "pd.set_option('display.max_rows', 2000)\n",
    "pd.set_option('display.max_columns', 2000)\n",
    "pd.set_option('display.width', 2000)"
   ]
  },
  {
   "cell_type": "code",
   "execution_count": 2,
   "metadata": {},
   "outputs": [
    {
     "data": {
      "text/html": [
       "<div>\n",
       "<style scoped>\n",
       "    .dataframe tbody tr th:only-of-type {\n",
       "        vertical-align: middle;\n",
       "    }\n",
       "\n",
       "    .dataframe tbody tr th {\n",
       "        vertical-align: top;\n",
       "    }\n",
       "\n",
       "    .dataframe thead th {\n",
       "        text-align: right;\n",
       "    }\n",
       "</style>\n",
       "<table border=\"1\" class=\"dataframe\">\n",
       "  <thead>\n",
       "    <tr style=\"text-align: right;\">\n",
       "      <th></th>\n",
       "      <th>Age</th>\n",
       "      <th>Attrition</th>\n",
       "      <th>BusinessTravel</th>\n",
       "      <th>DailyRate</th>\n",
       "      <th>Department</th>\n",
       "      <th>DistanceFromHome</th>\n",
       "      <th>Education</th>\n",
       "      <th>EducationField</th>\n",
       "      <th>EmployeeCount</th>\n",
       "      <th>EmployeeNumber</th>\n",
       "      <th>EnvironmentSatisfaction</th>\n",
       "      <th>Gender</th>\n",
       "      <th>HourlyRate</th>\n",
       "      <th>JobInvolvement</th>\n",
       "      <th>JobLevel</th>\n",
       "      <th>JobRole</th>\n",
       "      <th>JobSatisfaction</th>\n",
       "      <th>MaritalStatus</th>\n",
       "      <th>MonthlyIncome</th>\n",
       "      <th>MonthlyRate</th>\n",
       "      <th>NumCompaniesWorked</th>\n",
       "      <th>Over18</th>\n",
       "      <th>OverTime</th>\n",
       "      <th>PercentSalaryHike</th>\n",
       "      <th>PerformanceRating</th>\n",
       "      <th>RelationshipSatisfaction</th>\n",
       "      <th>StandardHours</th>\n",
       "      <th>StockOptionLevel</th>\n",
       "      <th>TotalWorkingYears</th>\n",
       "      <th>TrainingTimesLastYear</th>\n",
       "      <th>WorkLifeBalance</th>\n",
       "      <th>YearsAtCompany</th>\n",
       "      <th>YearsInCurrentRole</th>\n",
       "      <th>YearsSinceLastPromotion</th>\n",
       "      <th>YearsWithCurrManager</th>\n",
       "    </tr>\n",
       "  </thead>\n",
       "  <tbody>\n",
       "    <tr>\n",
       "      <th>0</th>\n",
       "      <td>41</td>\n",
       "      <td>Yes</td>\n",
       "      <td>Travel_Rarely</td>\n",
       "      <td>1102</td>\n",
       "      <td>Sales</td>\n",
       "      <td>1</td>\n",
       "      <td>2</td>\n",
       "      <td>Life Sciences</td>\n",
       "      <td>1</td>\n",
       "      <td>1</td>\n",
       "      <td>2</td>\n",
       "      <td>Female</td>\n",
       "      <td>94</td>\n",
       "      <td>3</td>\n",
       "      <td>2</td>\n",
       "      <td>Sales Executive</td>\n",
       "      <td>4</td>\n",
       "      <td>Single</td>\n",
       "      <td>5993</td>\n",
       "      <td>19479</td>\n",
       "      <td>8</td>\n",
       "      <td>Y</td>\n",
       "      <td>Yes</td>\n",
       "      <td>11</td>\n",
       "      <td>3</td>\n",
       "      <td>1</td>\n",
       "      <td>80</td>\n",
       "      <td>0</td>\n",
       "      <td>8</td>\n",
       "      <td>0</td>\n",
       "      <td>1</td>\n",
       "      <td>6</td>\n",
       "      <td>4</td>\n",
       "      <td>0</td>\n",
       "      <td>5</td>\n",
       "    </tr>\n",
       "    <tr>\n",
       "      <th>1</th>\n",
       "      <td>49</td>\n",
       "      <td>No</td>\n",
       "      <td>Travel_Frequently</td>\n",
       "      <td>279</td>\n",
       "      <td>Research &amp; Development</td>\n",
       "      <td>8</td>\n",
       "      <td>1</td>\n",
       "      <td>Life Sciences</td>\n",
       "      <td>1</td>\n",
       "      <td>2</td>\n",
       "      <td>3</td>\n",
       "      <td>Male</td>\n",
       "      <td>61</td>\n",
       "      <td>2</td>\n",
       "      <td>2</td>\n",
       "      <td>Research Scientist</td>\n",
       "      <td>2</td>\n",
       "      <td>Married</td>\n",
       "      <td>5130</td>\n",
       "      <td>24907</td>\n",
       "      <td>1</td>\n",
       "      <td>Y</td>\n",
       "      <td>No</td>\n",
       "      <td>23</td>\n",
       "      <td>4</td>\n",
       "      <td>4</td>\n",
       "      <td>80</td>\n",
       "      <td>1</td>\n",
       "      <td>10</td>\n",
       "      <td>3</td>\n",
       "      <td>3</td>\n",
       "      <td>10</td>\n",
       "      <td>7</td>\n",
       "      <td>1</td>\n",
       "      <td>7</td>\n",
       "    </tr>\n",
       "    <tr>\n",
       "      <th>2</th>\n",
       "      <td>37</td>\n",
       "      <td>Yes</td>\n",
       "      <td>Travel_Rarely</td>\n",
       "      <td>1373</td>\n",
       "      <td>Research &amp; Development</td>\n",
       "      <td>2</td>\n",
       "      <td>2</td>\n",
       "      <td>Other</td>\n",
       "      <td>1</td>\n",
       "      <td>4</td>\n",
       "      <td>4</td>\n",
       "      <td>Male</td>\n",
       "      <td>92</td>\n",
       "      <td>2</td>\n",
       "      <td>1</td>\n",
       "      <td>Laboratory Technician</td>\n",
       "      <td>3</td>\n",
       "      <td>Single</td>\n",
       "      <td>2090</td>\n",
       "      <td>2396</td>\n",
       "      <td>6</td>\n",
       "      <td>Y</td>\n",
       "      <td>Yes</td>\n",
       "      <td>15</td>\n",
       "      <td>3</td>\n",
       "      <td>2</td>\n",
       "      <td>80</td>\n",
       "      <td>0</td>\n",
       "      <td>7</td>\n",
       "      <td>3</td>\n",
       "      <td>3</td>\n",
       "      <td>0</td>\n",
       "      <td>0</td>\n",
       "      <td>0</td>\n",
       "      <td>0</td>\n",
       "    </tr>\n",
       "    <tr>\n",
       "      <th>3</th>\n",
       "      <td>33</td>\n",
       "      <td>No</td>\n",
       "      <td>Travel_Frequently</td>\n",
       "      <td>1392</td>\n",
       "      <td>Research &amp; Development</td>\n",
       "      <td>3</td>\n",
       "      <td>4</td>\n",
       "      <td>Life Sciences</td>\n",
       "      <td>1</td>\n",
       "      <td>5</td>\n",
       "      <td>4</td>\n",
       "      <td>Female</td>\n",
       "      <td>56</td>\n",
       "      <td>3</td>\n",
       "      <td>1</td>\n",
       "      <td>Research Scientist</td>\n",
       "      <td>3</td>\n",
       "      <td>Married</td>\n",
       "      <td>2909</td>\n",
       "      <td>23159</td>\n",
       "      <td>1</td>\n",
       "      <td>Y</td>\n",
       "      <td>Yes</td>\n",
       "      <td>11</td>\n",
       "      <td>3</td>\n",
       "      <td>3</td>\n",
       "      <td>80</td>\n",
       "      <td>0</td>\n",
       "      <td>8</td>\n",
       "      <td>3</td>\n",
       "      <td>3</td>\n",
       "      <td>8</td>\n",
       "      <td>7</td>\n",
       "      <td>3</td>\n",
       "      <td>0</td>\n",
       "    </tr>\n",
       "    <tr>\n",
       "      <th>4</th>\n",
       "      <td>27</td>\n",
       "      <td>No</td>\n",
       "      <td>Travel_Rarely</td>\n",
       "      <td>591</td>\n",
       "      <td>Research &amp; Development</td>\n",
       "      <td>2</td>\n",
       "      <td>1</td>\n",
       "      <td>Medical</td>\n",
       "      <td>1</td>\n",
       "      <td>7</td>\n",
       "      <td>1</td>\n",
       "      <td>Male</td>\n",
       "      <td>40</td>\n",
       "      <td>3</td>\n",
       "      <td>1</td>\n",
       "      <td>Laboratory Technician</td>\n",
       "      <td>2</td>\n",
       "      <td>Married</td>\n",
       "      <td>3468</td>\n",
       "      <td>16632</td>\n",
       "      <td>9</td>\n",
       "      <td>Y</td>\n",
       "      <td>No</td>\n",
       "      <td>12</td>\n",
       "      <td>3</td>\n",
       "      <td>4</td>\n",
       "      <td>80</td>\n",
       "      <td>1</td>\n",
       "      <td>6</td>\n",
       "      <td>3</td>\n",
       "      <td>3</td>\n",
       "      <td>2</td>\n",
       "      <td>2</td>\n",
       "      <td>2</td>\n",
       "      <td>2</td>\n",
       "    </tr>\n",
       "  </tbody>\n",
       "</table>\n",
       "</div>"
      ],
      "text/plain": [
       "   Age Attrition     BusinessTravel  DailyRate              Department  DistanceFromHome  Education EducationField  EmployeeCount  EmployeeNumber  EnvironmentSatisfaction  Gender  HourlyRate  JobInvolvement  JobLevel                JobRole  JobSatisfaction MaritalStatus  MonthlyIncome  MonthlyRate  NumCompaniesWorked Over18 OverTime  PercentSalaryHike  PerformanceRating  RelationshipSatisfaction  StandardHours  StockOptionLevel  TotalWorkingYears  TrainingTimesLastYear  WorkLifeBalance  YearsAtCompany  YearsInCurrentRole  YearsSinceLastPromotion  YearsWithCurrManager\n",
       "0   41       Yes      Travel_Rarely       1102                   Sales                 1          2  Life Sciences              1               1                        2  Female          94               3         2        Sales Executive                4        Single           5993        19479                   8      Y      Yes                 11                  3                         1             80                 0                  8                      0                1               6                   4                        0                     5\n",
       "1   49        No  Travel_Frequently        279  Research & Development                 8          1  Life Sciences              1               2                        3    Male          61               2         2     Research Scientist                2       Married           5130        24907                   1      Y       No                 23                  4                         4             80                 1                 10                      3                3              10                   7                        1                     7\n",
       "2   37       Yes      Travel_Rarely       1373  Research & Development                 2          2          Other              1               4                        4    Male          92               2         1  Laboratory Technician                3        Single           2090         2396                   6      Y      Yes                 15                  3                         2             80                 0                  7                      3                3               0                   0                        0                     0\n",
       "3   33        No  Travel_Frequently       1392  Research & Development                 3          4  Life Sciences              1               5                        4  Female          56               3         1     Research Scientist                3       Married           2909        23159                   1      Y      Yes                 11                  3                         3             80                 0                  8                      3                3               8                   7                        3                     0\n",
       "4   27        No      Travel_Rarely        591  Research & Development                 2          1        Medical              1               7                        1    Male          40               3         1  Laboratory Technician                2       Married           3468        16632                   9      Y       No                 12                  3                         4             80                 1                  6                      3                3               2                   2                        2                     2"
      ]
     },
     "execution_count": 2,
     "metadata": {},
     "output_type": "execute_result"
    }
   ],
   "source": [
    "import pandas as pd\n",
    "\n",
    "hr = pd.read_csv(\"c:\\\\data\\\\attrition data.csv\")\n",
    "hr.head()"
   ]
  },
  {
   "cell_type": "code",
   "execution_count": 4,
   "metadata": {},
   "outputs": [
    {
     "name": "stdout",
     "output_type": "stream",
     "text": [
      "<class 'pandas.core.frame.DataFrame'>\n",
      "RangeIndex: 1470 entries, 0 to 1469\n",
      "Data columns (total 35 columns):\n",
      " #   Column                    Non-Null Count  Dtype \n",
      "---  ------                    --------------  ----- \n",
      " 0   Age                       1470 non-null   int64 \n",
      " 1   Attrition                 1470 non-null   object\n",
      " 2   BusinessTravel            1470 non-null   object\n",
      " 3   DailyRate                 1470 non-null   int64 \n",
      " 4   Department                1470 non-null   object\n",
      " 5   DistanceFromHome          1470 non-null   int64 \n",
      " 6   Education                 1470 non-null   int64 \n",
      " 7   EducationField            1470 non-null   object\n",
      " 8   EmployeeCount             1470 non-null   int64 \n",
      " 9   EmployeeNumber            1470 non-null   int64 \n",
      " 10  EnvironmentSatisfaction   1470 non-null   int64 \n",
      " 11  Gender                    1470 non-null   object\n",
      " 12  HourlyRate                1470 non-null   int64 \n",
      " 13  JobInvolvement            1470 non-null   int64 \n",
      " 14  JobLevel                  1470 non-null   int64 \n",
      " 15  JobRole                   1470 non-null   object\n",
      " 16  JobSatisfaction           1470 non-null   int64 \n",
      " 17  MaritalStatus             1470 non-null   object\n",
      " 18  MonthlyIncome             1470 non-null   int64 \n",
      " 19  MonthlyRate               1470 non-null   int64 \n",
      " 20  NumCompaniesWorked        1470 non-null   int64 \n",
      " 21  Over18                    1470 non-null   object\n",
      " 22  OverTime                  1470 non-null   object\n",
      " 23  PercentSalaryHike         1470 non-null   int64 \n",
      " 24  PerformanceRating         1470 non-null   int64 \n",
      " 25  RelationshipSatisfaction  1470 non-null   int64 \n",
      " 26  StandardHours             1470 non-null   int64 \n",
      " 27  StockOptionLevel          1470 non-null   int64 \n",
      " 28  TotalWorkingYears         1470 non-null   int64 \n",
      " 29  TrainingTimesLastYear     1470 non-null   int64 \n",
      " 30  WorkLifeBalance           1470 non-null   int64 \n",
      " 31  YearsAtCompany            1470 non-null   int64 \n",
      " 32  YearsInCurrentRole        1470 non-null   int64 \n",
      " 33  YearsSinceLastPromotion   1470 non-null   int64 \n",
      " 34  YearsWithCurrManager      1470 non-null   int64 \n",
      "dtypes: int64(26), object(9)\n",
      "memory usage: 402.1+ KB\n"
     ]
    },
    {
     "data": {
      "text/html": [
       "<div>\n",
       "<style scoped>\n",
       "    .dataframe tbody tr th:only-of-type {\n",
       "        vertical-align: middle;\n",
       "    }\n",
       "\n",
       "    .dataframe tbody tr th {\n",
       "        vertical-align: top;\n",
       "    }\n",
       "\n",
       "    .dataframe thead th {\n",
       "        text-align: right;\n",
       "    }\n",
       "</style>\n",
       "<table border=\"1\" class=\"dataframe\">\n",
       "  <thead>\n",
       "    <tr style=\"text-align: right;\">\n",
       "      <th></th>\n",
       "      <th>Age</th>\n",
       "      <th>DailyRate</th>\n",
       "      <th>DistanceFromHome</th>\n",
       "      <th>Education</th>\n",
       "      <th>EmployeeCount</th>\n",
       "      <th>EmployeeNumber</th>\n",
       "      <th>EnvironmentSatisfaction</th>\n",
       "      <th>HourlyRate</th>\n",
       "      <th>JobInvolvement</th>\n",
       "      <th>JobLevel</th>\n",
       "      <th>JobSatisfaction</th>\n",
       "      <th>MonthlyIncome</th>\n",
       "      <th>MonthlyRate</th>\n",
       "      <th>NumCompaniesWorked</th>\n",
       "      <th>PercentSalaryHike</th>\n",
       "      <th>PerformanceRating</th>\n",
       "      <th>RelationshipSatisfaction</th>\n",
       "      <th>StandardHours</th>\n",
       "      <th>StockOptionLevel</th>\n",
       "      <th>TotalWorkingYears</th>\n",
       "      <th>TrainingTimesLastYear</th>\n",
       "      <th>WorkLifeBalance</th>\n",
       "      <th>YearsAtCompany</th>\n",
       "      <th>YearsInCurrentRole</th>\n",
       "      <th>YearsSinceLastPromotion</th>\n",
       "      <th>YearsWithCurrManager</th>\n",
       "    </tr>\n",
       "  </thead>\n",
       "  <tbody>\n",
       "    <tr>\n",
       "      <th>count</th>\n",
       "      <td>1470.000000</td>\n",
       "      <td>1470.000000</td>\n",
       "      <td>1470.000000</td>\n",
       "      <td>1470.000000</td>\n",
       "      <td>1470.0</td>\n",
       "      <td>1470.000000</td>\n",
       "      <td>1470.000000</td>\n",
       "      <td>1470.000000</td>\n",
       "      <td>1470.000000</td>\n",
       "      <td>1470.000000</td>\n",
       "      <td>1470.000000</td>\n",
       "      <td>1470.000000</td>\n",
       "      <td>1470.000000</td>\n",
       "      <td>1470.000000</td>\n",
       "      <td>1470.000000</td>\n",
       "      <td>1470.000000</td>\n",
       "      <td>1470.000000</td>\n",
       "      <td>1470.0</td>\n",
       "      <td>1470.000000</td>\n",
       "      <td>1470.000000</td>\n",
       "      <td>1470.000000</td>\n",
       "      <td>1470.000000</td>\n",
       "      <td>1470.000000</td>\n",
       "      <td>1470.000000</td>\n",
       "      <td>1470.000000</td>\n",
       "      <td>1470.000000</td>\n",
       "    </tr>\n",
       "    <tr>\n",
       "      <th>mean</th>\n",
       "      <td>36.923810</td>\n",
       "      <td>802.485714</td>\n",
       "      <td>9.192517</td>\n",
       "      <td>2.912925</td>\n",
       "      <td>1.0</td>\n",
       "      <td>1024.865306</td>\n",
       "      <td>2.721769</td>\n",
       "      <td>65.891156</td>\n",
       "      <td>2.729932</td>\n",
       "      <td>2.063946</td>\n",
       "      <td>2.728571</td>\n",
       "      <td>6502.931293</td>\n",
       "      <td>14313.103401</td>\n",
       "      <td>2.693197</td>\n",
       "      <td>15.209524</td>\n",
       "      <td>3.153741</td>\n",
       "      <td>2.712245</td>\n",
       "      <td>80.0</td>\n",
       "      <td>0.793878</td>\n",
       "      <td>11.279592</td>\n",
       "      <td>2.799320</td>\n",
       "      <td>2.761224</td>\n",
       "      <td>7.008163</td>\n",
       "      <td>4.229252</td>\n",
       "      <td>2.187755</td>\n",
       "      <td>4.123129</td>\n",
       "    </tr>\n",
       "    <tr>\n",
       "      <th>std</th>\n",
       "      <td>9.135373</td>\n",
       "      <td>403.509100</td>\n",
       "      <td>8.106864</td>\n",
       "      <td>1.024165</td>\n",
       "      <td>0.0</td>\n",
       "      <td>602.024335</td>\n",
       "      <td>1.093082</td>\n",
       "      <td>20.329428</td>\n",
       "      <td>0.711561</td>\n",
       "      <td>1.106940</td>\n",
       "      <td>1.102846</td>\n",
       "      <td>4707.956783</td>\n",
       "      <td>7117.786044</td>\n",
       "      <td>2.498009</td>\n",
       "      <td>3.659938</td>\n",
       "      <td>0.360824</td>\n",
       "      <td>1.081209</td>\n",
       "      <td>0.0</td>\n",
       "      <td>0.852077</td>\n",
       "      <td>7.780782</td>\n",
       "      <td>1.289271</td>\n",
       "      <td>0.706476</td>\n",
       "      <td>6.126525</td>\n",
       "      <td>3.623137</td>\n",
       "      <td>3.222430</td>\n",
       "      <td>3.568136</td>\n",
       "    </tr>\n",
       "    <tr>\n",
       "      <th>min</th>\n",
       "      <td>18.000000</td>\n",
       "      <td>102.000000</td>\n",
       "      <td>1.000000</td>\n",
       "      <td>1.000000</td>\n",
       "      <td>1.0</td>\n",
       "      <td>1.000000</td>\n",
       "      <td>1.000000</td>\n",
       "      <td>30.000000</td>\n",
       "      <td>1.000000</td>\n",
       "      <td>1.000000</td>\n",
       "      <td>1.000000</td>\n",
       "      <td>1009.000000</td>\n",
       "      <td>2094.000000</td>\n",
       "      <td>0.000000</td>\n",
       "      <td>11.000000</td>\n",
       "      <td>3.000000</td>\n",
       "      <td>1.000000</td>\n",
       "      <td>80.0</td>\n",
       "      <td>0.000000</td>\n",
       "      <td>0.000000</td>\n",
       "      <td>0.000000</td>\n",
       "      <td>1.000000</td>\n",
       "      <td>0.000000</td>\n",
       "      <td>0.000000</td>\n",
       "      <td>0.000000</td>\n",
       "      <td>0.000000</td>\n",
       "    </tr>\n",
       "    <tr>\n",
       "      <th>25%</th>\n",
       "      <td>30.000000</td>\n",
       "      <td>465.000000</td>\n",
       "      <td>2.000000</td>\n",
       "      <td>2.000000</td>\n",
       "      <td>1.0</td>\n",
       "      <td>491.250000</td>\n",
       "      <td>2.000000</td>\n",
       "      <td>48.000000</td>\n",
       "      <td>2.000000</td>\n",
       "      <td>1.000000</td>\n",
       "      <td>2.000000</td>\n",
       "      <td>2911.000000</td>\n",
       "      <td>8047.000000</td>\n",
       "      <td>1.000000</td>\n",
       "      <td>12.000000</td>\n",
       "      <td>3.000000</td>\n",
       "      <td>2.000000</td>\n",
       "      <td>80.0</td>\n",
       "      <td>0.000000</td>\n",
       "      <td>6.000000</td>\n",
       "      <td>2.000000</td>\n",
       "      <td>2.000000</td>\n",
       "      <td>3.000000</td>\n",
       "      <td>2.000000</td>\n",
       "      <td>0.000000</td>\n",
       "      <td>2.000000</td>\n",
       "    </tr>\n",
       "    <tr>\n",
       "      <th>50%</th>\n",
       "      <td>36.000000</td>\n",
       "      <td>802.000000</td>\n",
       "      <td>7.000000</td>\n",
       "      <td>3.000000</td>\n",
       "      <td>1.0</td>\n",
       "      <td>1020.500000</td>\n",
       "      <td>3.000000</td>\n",
       "      <td>66.000000</td>\n",
       "      <td>3.000000</td>\n",
       "      <td>2.000000</td>\n",
       "      <td>3.000000</td>\n",
       "      <td>4919.000000</td>\n",
       "      <td>14235.500000</td>\n",
       "      <td>2.000000</td>\n",
       "      <td>14.000000</td>\n",
       "      <td>3.000000</td>\n",
       "      <td>3.000000</td>\n",
       "      <td>80.0</td>\n",
       "      <td>1.000000</td>\n",
       "      <td>10.000000</td>\n",
       "      <td>3.000000</td>\n",
       "      <td>3.000000</td>\n",
       "      <td>5.000000</td>\n",
       "      <td>3.000000</td>\n",
       "      <td>1.000000</td>\n",
       "      <td>3.000000</td>\n",
       "    </tr>\n",
       "    <tr>\n",
       "      <th>75%</th>\n",
       "      <td>43.000000</td>\n",
       "      <td>1157.000000</td>\n",
       "      <td>14.000000</td>\n",
       "      <td>4.000000</td>\n",
       "      <td>1.0</td>\n",
       "      <td>1555.750000</td>\n",
       "      <td>4.000000</td>\n",
       "      <td>83.750000</td>\n",
       "      <td>3.000000</td>\n",
       "      <td>3.000000</td>\n",
       "      <td>4.000000</td>\n",
       "      <td>8379.000000</td>\n",
       "      <td>20461.500000</td>\n",
       "      <td>4.000000</td>\n",
       "      <td>18.000000</td>\n",
       "      <td>3.000000</td>\n",
       "      <td>4.000000</td>\n",
       "      <td>80.0</td>\n",
       "      <td>1.000000</td>\n",
       "      <td>15.000000</td>\n",
       "      <td>3.000000</td>\n",
       "      <td>3.000000</td>\n",
       "      <td>9.000000</td>\n",
       "      <td>7.000000</td>\n",
       "      <td>3.000000</td>\n",
       "      <td>7.000000</td>\n",
       "    </tr>\n",
       "    <tr>\n",
       "      <th>max</th>\n",
       "      <td>60.000000</td>\n",
       "      <td>1499.000000</td>\n",
       "      <td>29.000000</td>\n",
       "      <td>5.000000</td>\n",
       "      <td>1.0</td>\n",
       "      <td>2068.000000</td>\n",
       "      <td>4.000000</td>\n",
       "      <td>100.000000</td>\n",
       "      <td>4.000000</td>\n",
       "      <td>5.000000</td>\n",
       "      <td>4.000000</td>\n",
       "      <td>19999.000000</td>\n",
       "      <td>26999.000000</td>\n",
       "      <td>9.000000</td>\n",
       "      <td>25.000000</td>\n",
       "      <td>4.000000</td>\n",
       "      <td>4.000000</td>\n",
       "      <td>80.0</td>\n",
       "      <td>3.000000</td>\n",
       "      <td>40.000000</td>\n",
       "      <td>6.000000</td>\n",
       "      <td>4.000000</td>\n",
       "      <td>40.000000</td>\n",
       "      <td>18.000000</td>\n",
       "      <td>15.000000</td>\n",
       "      <td>17.000000</td>\n",
       "    </tr>\n",
       "  </tbody>\n",
       "</table>\n",
       "</div>"
      ],
      "text/plain": [
       "               Age    DailyRate  DistanceFromHome    Education  EmployeeCount  EmployeeNumber  EnvironmentSatisfaction   HourlyRate  JobInvolvement     JobLevel  JobSatisfaction  MonthlyIncome   MonthlyRate  NumCompaniesWorked  PercentSalaryHike  PerformanceRating  RelationshipSatisfaction  StandardHours  StockOptionLevel  TotalWorkingYears  TrainingTimesLastYear  WorkLifeBalance  YearsAtCompany  YearsInCurrentRole  YearsSinceLastPromotion  YearsWithCurrManager\n",
       "count  1470.000000  1470.000000       1470.000000  1470.000000         1470.0     1470.000000              1470.000000  1470.000000     1470.000000  1470.000000      1470.000000    1470.000000   1470.000000         1470.000000        1470.000000        1470.000000               1470.000000         1470.0       1470.000000        1470.000000            1470.000000      1470.000000     1470.000000         1470.000000              1470.000000           1470.000000\n",
       "mean     36.923810   802.485714          9.192517     2.912925            1.0     1024.865306                 2.721769    65.891156        2.729932     2.063946         2.728571    6502.931293  14313.103401            2.693197          15.209524           3.153741                  2.712245           80.0          0.793878          11.279592               2.799320         2.761224        7.008163            4.229252                 2.187755              4.123129\n",
       "std       9.135373   403.509100          8.106864     1.024165            0.0      602.024335                 1.093082    20.329428        0.711561     1.106940         1.102846    4707.956783   7117.786044            2.498009           3.659938           0.360824                  1.081209            0.0          0.852077           7.780782               1.289271         0.706476        6.126525            3.623137                 3.222430              3.568136\n",
       "min      18.000000   102.000000          1.000000     1.000000            1.0        1.000000                 1.000000    30.000000        1.000000     1.000000         1.000000    1009.000000   2094.000000            0.000000          11.000000           3.000000                  1.000000           80.0          0.000000           0.000000               0.000000         1.000000        0.000000            0.000000                 0.000000              0.000000\n",
       "25%      30.000000   465.000000          2.000000     2.000000            1.0      491.250000                 2.000000    48.000000        2.000000     1.000000         2.000000    2911.000000   8047.000000            1.000000          12.000000           3.000000                  2.000000           80.0          0.000000           6.000000               2.000000         2.000000        3.000000            2.000000                 0.000000              2.000000\n",
       "50%      36.000000   802.000000          7.000000     3.000000            1.0     1020.500000                 3.000000    66.000000        3.000000     2.000000         3.000000    4919.000000  14235.500000            2.000000          14.000000           3.000000                  3.000000           80.0          1.000000          10.000000               3.000000         3.000000        5.000000            3.000000                 1.000000              3.000000\n",
       "75%      43.000000  1157.000000         14.000000     4.000000            1.0     1555.750000                 4.000000    83.750000        3.000000     3.000000         4.000000    8379.000000  20461.500000            4.000000          18.000000           3.000000                  4.000000           80.0          1.000000          15.000000               3.000000         3.000000        9.000000            7.000000                 3.000000              7.000000\n",
       "max      60.000000  1499.000000         29.000000     5.000000            1.0     2068.000000                 4.000000   100.000000        4.000000     5.000000         4.000000   19999.000000  26999.000000            9.000000          25.000000           4.000000                  4.000000           80.0          3.000000          40.000000               6.000000         4.000000       40.000000           18.000000                15.000000             17.000000"
      ]
     },
     "execution_count": 4,
     "metadata": {},
     "output_type": "execute_result"
    }
   ],
   "source": [
    "hr.info()   #int와 object\n",
    "hr.shape    # 1470, 35           \n",
    "\n",
    "hr.describe()"
   ]
  },
  {
   "cell_type": "code",
   "execution_count": 5,
   "metadata": {},
   "outputs": [
    {
     "data": {
      "text/plain": [
       "Age                         0\n",
       "Attrition                   0\n",
       "BusinessTravel              0\n",
       "DailyRate                   0\n",
       "Department                  0\n",
       "DistanceFromHome            0\n",
       "Education                   0\n",
       "EducationField              0\n",
       "EmployeeCount               0\n",
       "EmployeeNumber              0\n",
       "EnvironmentSatisfaction     0\n",
       "Gender                      0\n",
       "HourlyRate                  0\n",
       "JobInvolvement              0\n",
       "JobLevel                    0\n",
       "JobRole                     0\n",
       "JobSatisfaction             0\n",
       "MaritalStatus               0\n",
       "MonthlyIncome               0\n",
       "MonthlyRate                 0\n",
       "NumCompaniesWorked          0\n",
       "Over18                      0\n",
       "OverTime                    0\n",
       "PercentSalaryHike           0\n",
       "PerformanceRating           0\n",
       "RelationshipSatisfaction    0\n",
       "StandardHours               0\n",
       "StockOptionLevel            0\n",
       "TotalWorkingYears           0\n",
       "TrainingTimesLastYear       0\n",
       "WorkLifeBalance             0\n",
       "YearsAtCompany              0\n",
       "YearsInCurrentRole          0\n",
       "YearsSinceLastPromotion     0\n",
       "YearsWithCurrManager        0\n",
       "dtype: int64"
      ]
     },
     "execution_count": 5,
     "metadata": {},
     "output_type": "execute_result"
    }
   ],
   "source": [
    "hr.isnull().sum()    #결측치 없음"
   ]
  },
  {
   "cell_type": "code",
   "execution_count": 3,
   "metadata": {},
   "outputs": [
    {
     "data": {
      "text/plain": [
       "(1470, 32)"
      ]
     },
     "execution_count": 3,
     "metadata": {},
     "output_type": "execute_result"
    }
   ],
   "source": [
    "#hr['StandardHours'].value_counts()    모두 똑같은 속성값 가짐. 컬럼 삭제.\n",
    "#hr['EmployeeCount'].value_counts()\n",
    "#hr['Over18'].value_counts()\n",
    "\n",
    "hr=hr.drop(['Over18', 'StandardHours','EmployeeCount'], axis=1)\n",
    "hr.shape   # 1470, 32"
   ]
  },
  {
   "cell_type": "code",
   "execution_count": 7,
   "metadata": {},
   "outputs": [
    {
     "name": "stdout",
     "output_type": "stream",
     "text": [
      "Age 0\n",
      "DailyRate 0\n",
      "DistanceFromHome 0\n",
      "Education 0\n",
      "EmployeeNumber 0\n",
      "EnvironmentSatisfaction 0\n",
      "HourlyRate 0\n",
      "JobInvolvement 0\n",
      "JobLevel 0\n",
      "JobSatisfaction 0\n",
      "MonthlyIncome 0\n",
      "MonthlyRate 0\n",
      "NumCompaniesWorked 0\n",
      "PercentSalaryHike 0\n",
      "PerformanceRating 226\n",
      "RelationshipSatisfaction 0\n",
      "StockOptionLevel 0\n",
      "TotalWorkingYears 0\n",
      "TrainingTimesLastYear 0\n",
      "WorkLifeBalance 0\n",
      "YearsAtCompany 16\n",
      "YearsInCurrentRole 0\n",
      "YearsSinceLastPromotion 22\n",
      "YearsWithCurrManager 0\n"
     ]
    }
   ],
   "source": [
    "#이상치 확인\n",
    "\n",
    "def outlier_value(csv):                                 \n",
    "    list=[]\n",
    "    for i in range(len(csv.columns)):\n",
    "        list.append(csv.columns[i])\n",
    "    for i in list:\n",
    "        if csv[i].dtypes=='int64':            \n",
    "            Q3 = csv[i].quantile(0.75)\n",
    "            Q1 = csv[i].quantile(0.25)\n",
    "            IQR=Q3-Q1\n",
    "\n",
    "            upper_bound = Q3 + (IQR*3.5)\n",
    "            lower_bound = Q1 - (IQR*3.5)\n",
    "            print(i, csv.loc[(csv[i]<lower_bound) | (csv[i]>upper_bound), i].count())\n",
    "\n",
    "outlier_value(hr)\n",
    "\n",
    "#정답컬럼은 제외하고, YearsAtCompany(16)와 YearsSinceLastPromotion(22)은 미미하여 이상치를 고려하지 않음\n",
    "#PerformanceRating(226)은 등급값의 편향으로 인해 이상치가 크나, 유의미한 값이라는 판단하에 조정하지 않음"
   ]
  },
  {
   "cell_type": "code",
   "execution_count": 4,
   "metadata": {},
   "outputs": [],
   "source": [
    "hr2=hr.drop(['Attrition'],axis=1)     #정답컬럼 제외"
   ]
  },
  {
   "cell_type": "code",
   "execution_count": 5,
   "metadata": {},
   "outputs": [],
   "source": [
    "hr['Attrition']=hr['Attrition'].replace({'No': 0, 'Yes': 1})  #정답 컬럼 형태변환"
   ]
  },
  {
   "cell_type": "code",
   "execution_count": 6,
   "metadata": {},
   "outputs": [],
   "source": [
    "hr2=pd.get_dummies(hr2)  # 더미변수화"
   ]
  },
  {
   "cell_type": "code",
   "execution_count": 7,
   "metadata": {},
   "outputs": [],
   "source": [
    "x=hr2.to_numpy()                  #훈련데이터\n",
    "y=hr['Attrition'].to_numpy()      #정답만 데이터"
   ]
  },
  {
   "cell_type": "code",
   "execution_count": 8,
   "metadata": {},
   "outputs": [],
   "source": [
    "from sklearn.model_selection import train_test_split\n",
    "\n",
    "x_train, x_test, y_train, y_test = train_test_split(x, y, test_size=0.1, stratify=y, random_state=1)"
   ]
  },
  {
   "cell_type": "code",
   "execution_count": 9,
   "metadata": {},
   "outputs": [],
   "source": [
    "from sklearn.preprocessing import MinMaxScaler\n",
    "scaler=MinMaxScaler()\n",
    "scaler.fit(x_train)\n",
    "x_train2=scaler.transform(x_train)\n",
    "x_test2=scaler.transform(x_test)"
   ]
  },
  {
   "cell_type": "code",
   "execution_count": 10,
   "metadata": {},
   "outputs": [
    {
     "data": {
      "text/plain": [
       "82.99319727891157"
      ]
     },
     "execution_count": 10,
     "metadata": {},
     "output_type": "execute_result"
    }
   ],
   "source": [
    "#첫번째 모델생성 <knn> \n",
    "\n",
    "from sklearn.neighbors import KNeighborsClassifier\n",
    "model1 = KNeighborsClassifier(n_neighbors=3)\n",
    "\n",
    "model1.fit(x_train2, y_train)\n",
    "result1=model1.predict(x_test2)\n",
    "sum(result1==y_test)/len(y_test)*100       #82.99319727891157 -> #87.75510204081633"
   ]
  },
  {
   "cell_type": "code",
   "execution_count": 15,
   "metadata": {},
   "outputs": [
    {
     "name": "stdout",
     "output_type": "stream",
     "text": [
      "[[123   0]\n",
      " [ 18   6]]\n"
     ]
    }
   ],
   "source": [
    "from sklearn.metrics import confusion_matrix\n",
    "a=confusion_matrix(y_test, result1)\n",
    "print(a)\n",
    "\n",
    "### 최적의 파라미터값 k=11일 때 최소 fn값 =18"
   ]
  },
  {
   "cell_type": "code",
   "execution_count": 16,
   "metadata": {},
   "outputs": [
    {
     "name": "stdout",
     "output_type": "stream",
     "text": [
      "1 13 81.63265306122449\n",
      "3 16 82.99319727891157\n",
      "5 16 84.35374149659864\n",
      "7 17 85.71428571428571\n",
      "9 18 87.07482993197279\n",
      "11 18 87.75510204081633\n",
      "13 18 87.75510204081633\n",
      "15 19 87.07482993197279\n",
      "17 20 86.39455782312925\n",
      "19 20 86.39455782312925\n",
      "21 21 85.71428571428571\n",
      "23 20 86.39455782312925\n",
      "25 20 86.39455782312925\n",
      "27 21 85.71428571428571\n",
      "29 23 84.35374149659864\n",
      "31 24 83.6734693877551\n",
      "33 24 83.6734693877551\n",
      "35 23 84.35374149659864\n",
      "37 23 84.35374149659864\n",
      "39 24 83.6734693877551\n",
      "41 24 83.6734693877551\n",
      "43 24 83.6734693877551\n",
      "45 24 83.6734693877551\n",
      "47 24 83.6734693877551\n",
      "49 24 83.6734693877551\n",
      "51 24 83.6734693877551\n",
      "53 24 83.6734693877551\n",
      "55 24 83.6734693877551\n",
      "57 24 83.6734693877551\n",
      "59 24 83.6734693877551\n",
      "61 24 83.6734693877551\n",
      "63 24 83.6734693877551\n",
      "65 24 83.6734693877551\n",
      "67 24 83.6734693877551\n",
      "69 24 83.6734693877551\n",
      "71 24 83.6734693877551\n",
      "73 24 83.6734693877551\n",
      "75 24 83.6734693877551\n",
      "77 24 83.6734693877551\n",
      "79 24 83.6734693877551\n",
      "81 24 83.6734693877551\n",
      "83 24 83.6734693877551\n",
      "85 24 83.6734693877551\n",
      "87 24 83.6734693877551\n",
      "89 24 83.6734693877551\n",
      "91 24 83.6734693877551\n",
      "93 24 83.6734693877551\n",
      "95 24 83.6734693877551\n",
      "97 24 83.6734693877551\n",
      "99 24 83.6734693877551\n",
      "101 24 83.6734693877551\n",
      "103 24 83.6734693877551\n",
      "105 24 83.6734693877551\n",
      "107 24 83.6734693877551\n",
      "109 24 83.6734693877551\n",
      "111 24 83.6734693877551\n",
      "113 24 83.6734693877551\n",
      "115 24 83.6734693877551\n",
      "117 24 83.6734693877551\n",
      "119 24 83.6734693877551\n",
      "121 24 83.6734693877551\n",
      "123 24 83.6734693877551\n"
     ]
    }
   ],
   "source": [
    "#knn의 최적의 하이퍼파리미터값     [ k =  11 ]\n",
    "\n",
    "from sklearn.metrics import confusion_matrix\n",
    "\n",
    "for i in range(1,125, 2):\n",
    "    model1 = KNeighborsClassifier(n_neighbors=i)\n",
    "    model1.fit(x_train2, y_train)\n",
    "    result1 = model1.predict(x_test2)\n",
    "    tn, fp, fn, tp = confusion_matrix(y_test, result1).ravel()\n",
    "    print(i, fn, sum(y_test==result1)/len(y_test)*100)\n"
   ]
  },
  {
   "cell_type": "code",
   "execution_count": 19,
   "metadata": {},
   "outputs": [
    {
     "name": "stdout",
     "output_type": "stream",
     "text": [
      "정확도 0.8775510204081632\n",
      "카파통계량 0.3580786026200873\n",
      "민감도 0.25\n",
      "특이도 0.25\n",
      "정밀도 1.0\n",
      "재현율 0.25\n"
     ]
    }
   ],
   "source": [
    "#정확도\n",
    "from  sklearn.metrics  import  accuracy_score\n",
    "acurracy = accuracy_score( y_test, result1)\n",
    "print('정확도', acurracy)\n",
    "\n",
    "#카파통계량\n",
    "from sklearn.metrics import cohen_kappa_score\n",
    "kappa=cohen_kappa_score(y_test, result1)\n",
    "print('카파통계량',kappa )\n",
    "\n",
    "#민감도 #실제로 '긍정'인 범주 중에서 '긍정'으로 올바르게 예측한 비율 =재현율\n",
    "from sklearn.metrics import recall_score\n",
    "print('민감도', recall_score(y_test, result1, pos_label=1)) \n",
    "\n",
    "#특이도 #실제로 '부정'인 범주 중에서 '부정'으로 올바르게 예측한 비율\n",
    "from sklearn.metrics import confusion_matrix\n",
    "tn, fp, fn, tp= confusion_matrix( y_test, result1 ).ravel()\n",
    "sensitivity=tp/(tp+fn)                            \n",
    "print('특이도', sensitivity)\n",
    "\n",
    "#정밀도 '긍정'으로 예측한 것 중에서 실제로 '긍정'인 것의 비율\n",
    "precision = tp/(tp+fp)\n",
    "print('정밀도', precision)\n",
    "\n",
    "#재현율\n",
    "recall = tp/(tp+fn)\n",
    "print('재현율', recall)\n",
    "\n",
    "#적극적예측 추구\n",
    "#확실한 경우가 아니면 관심범주로 판단하지 않음\n",
    "#정밀도 ↓         재현율 ↑"
   ]
  },
  {
   "cell_type": "code",
   "execution_count": 20,
   "metadata": {},
   "outputs": [
    {
     "data": {
      "text/plain": [
       "87.75510204081633"
      ]
     },
     "execution_count": 20,
     "metadata": {},
     "output_type": "execute_result"
    }
   ],
   "source": [
    "#두번째 모델생성 <NaiveBaise> \n",
    "\n",
    "from sklearn.naive_bayes import BernoulliNB\n",
    "model2= BernoulliNB()\n",
    "\n",
    "model2.fit(x_train2, y_train)\n",
    "result2=model2.predict(x_test2)\n",
    "sum(result2==y_test)/len(y_test)*100        #87.75510204081633"
   ]
  },
  {
   "cell_type": "code",
   "execution_count": null,
   "metadata": {},
   "outputs": [],
   "source": [
    "#두번째 나이브베이즈 모델의 성능 높이기\n",
    "#<NaiveBaise>의 최종 정확도  #89.79591836734694"
   ]
  },
  {
   "cell_type": "code",
   "execution_count": 26,
   "metadata": {
    "collapsed": true
   },
   "outputs": [
    {
     "name": "stdout",
     "output_type": "stream",
     "text": [
      "1e-07 0.7346938775510204\n",
      "0.0100001 0.7551020408163265\n",
      "0.0200001 0.782312925170068\n",
      "0.0300001 0.7891156462585034\n",
      "0.040000100000000004 0.7959183673469388\n",
      "0.050000100000000006 0.8027210884353742\n",
      "0.0600001 0.8027210884353742\n",
      "0.07000010000000001 0.8027210884353742\n",
      "0.0800001 0.8027210884353742\n",
      "0.0900001 0.8027210884353742\n",
      "0.10000010000000001 0.7959183673469388\n",
      "0.1100001 0.7959183673469388\n",
      "0.1200001 0.8027210884353742\n",
      "0.1300001 0.8027210884353742\n",
      "0.14000010000000002 0.8027210884353742\n",
      "0.1500001 0.8027210884353742\n",
      "0.1600001 0.8027210884353742\n",
      "0.17000010000000002 0.8163265306122449\n",
      "0.1800001 0.8231292517006803\n",
      "0.1900001 0.8231292517006803\n",
      "0.20000010000000001 0.8231292517006803\n",
      "0.2100001 0.8231292517006803\n",
      "0.2200001 0.8299319727891157\n",
      "0.2300001 0.8299319727891157\n",
      "0.2400001 0.8367346938775511\n",
      "0.2500001 0.8367346938775511\n",
      "0.2600001 0.8367346938775511\n",
      "0.2700001 0.8367346938775511\n",
      "0.28000010000000003 0.8435374149659864\n",
      "0.2900001 0.8503401360544217\n",
      "0.3000001 0.8435374149659864\n",
      "0.3100001 0.8503401360544217\n",
      "0.3200001 0.8503401360544217\n",
      "0.3300001 0.8503401360544217\n",
      "0.3400001 0.8639455782312925\n",
      "0.35000010000000004 0.8775510204081632\n",
      "0.3600001 0.8775510204081632\n",
      "0.3700001 0.8775510204081632\n",
      "0.3800001 0.8843537414965986\n",
      "0.3900001 0.8843537414965986\n",
      "0.4000001 0.8843537414965986\n",
      "0.41000010000000003 0.8843537414965986\n",
      "0.4200001 0.8979591836734694\n",
      "0.4300001 0.8979591836734694\n",
      "0.4400001 0.8979591836734694\n",
      "0.4500001 0.8979591836734694\n",
      "0.4600001 0.8843537414965986\n",
      "0.47000010000000003 0.8843537414965986\n",
      "0.4800001 0.8843537414965986\n",
      "0.4900001 0.8843537414965986\n",
      "0.5000001 0.8843537414965986\n",
      "0.5100001 0.8775510204081632\n",
      "0.5200001 0.8775510204081632\n",
      "0.5300001 0.8843537414965986\n",
      "0.5400001 0.8843537414965986\n",
      "0.5500001 0.8775510204081632\n",
      "0.5600001 0.8775510204081632\n",
      "0.5700001 0.8775510204081632\n",
      "0.5800000999999999 0.8843537414965986\n",
      "0.5900000999999999 0.8843537414965986\n",
      "0.6000000999999999 0.8843537414965986\n",
      "0.6100000999999999 0.8843537414965986\n",
      "0.6200000999999999 0.8775510204081632\n",
      "0.6300001 0.8707482993197279\n",
      "0.6400001 0.8707482993197279\n",
      "0.6500001 0.8707482993197279\n",
      "0.6600001 0.8775510204081632\n",
      "0.6700001 0.8775510204081632\n",
      "0.6800001 0.8843537414965986\n",
      "0.6900001 0.8775510204081632\n",
      "0.7000001 0.8775510204081632\n",
      "0.7100000999999999 0.8707482993197279\n",
      "0.7200000999999999 0.8707482993197279\n",
      "0.7300000999999999 0.8707482993197279\n",
      "0.7400000999999999 0.8707482993197279\n",
      "0.7500001 0.8707482993197279\n",
      "0.7600001 0.8707482993197279\n",
      "0.7700001 0.8707482993197279\n",
      "0.7800001 0.8707482993197279\n",
      "0.7900001 0.8707482993197279\n",
      "0.8000001 0.8707482993197279\n",
      "0.8100001 0.8707482993197279\n",
      "0.8200001 0.8707482993197279\n",
      "0.8300001 0.8707482993197279\n",
      "0.8400000999999999 0.8639455782312925\n",
      "0.8500000999999999 0.8571428571428571\n",
      "0.8600000999999999 0.8571428571428571\n",
      "0.8700000999999999 0.8571428571428571\n",
      "0.8800001 0.8639455782312925\n",
      "0.8900001 0.8639455782312925\n",
      "0.9000001 0.8639455782312925\n",
      "0.9100001 0.8639455782312925\n",
      "0.9200001 0.8639455782312925\n",
      "0.9300001 0.8639455782312925\n",
      "0.9400001 0.8639455782312925\n",
      "0.9500001 0.8639455782312925\n",
      "0.9600000999999999 0.8639455782312925\n",
      "0.9700000999999999 0.8639455782312925\n",
      "0.9800000999999999 0.8639455782312925\n",
      "0.9900000999999999 0.8639455782312925\n",
      "0.001 ------------------> 2\n",
      "0.101 ------------------> 2\n",
      "0.201 ------------------> 1\n",
      "0.30100000000000005 ------------------> 1\n",
      "0.401 ------------------> 1\n",
      "0.501 ------------------> 1\n",
      "0.6010000000000001 ------------------> 1\n",
      "0.7010000000000001 ------------------> 2\n",
      "0.801 ------------------> 2\n",
      "0.901 ------------------> 2\n"
     ]
    }
   ],
   "source": [
    "#NaiveBaise의 최적의 하이퍼파라미터 도출[var_smoothing=0.420001]\n",
    "\n",
    "import numpy as np\n",
    "from sklearn.naive_bayes import GaussianNB\n",
    "\n",
    "errors=[]\n",
    "for i in np.arange(0.0000001, 1, 0.01):\n",
    "    model22= GaussianNB(var_smoothing=i)\n",
    "    model22.fit(x_train2, y_train)\n",
    "    result22 = model22.predict(x_test2)\n",
    "    fn = confusion_matrix(y_test, result22)[1][0]\n",
    "    errors.append(fn)\n",
    "    print(i, model22.score(x_test2, y_test))\n",
    "    \n",
    "for s, i in zip(np.arange(0.001, 1, 0.1), errors):\n",
    "    print(s, '------------------>', i)\n",
    "\n",
    "# var_smoothing =0.4200001 일 때 0.8979591836734694로 정확도 향상"
   ]
  },
  {
   "cell_type": "code",
   "execution_count": 30,
   "metadata": {},
   "outputs": [
    {
     "name": "stdout",
     "output_type": "stream",
     "text": [
      "86.09221466364325\n",
      "89.79591836734694\n"
     ]
    }
   ],
   "source": [
    "from sklearn.naive_bayes import GaussianNB\n",
    "\n",
    "model22 = GaussianNB(var_smoothing=0.4200001)\n",
    "\n",
    "model22.fit(x_train2, y_train)\n",
    "\n",
    "result22 = model22.predict(x_test2)\n",
    "\n",
    "print(model22.score(x_train2, y_train)*100)\n",
    "print(sum(result22==y_test)/len(y_test)*100)"
   ]
  },
  {
   "cell_type": "code",
   "execution_count": 24,
   "metadata": {},
   "outputs": [
    {
     "name": "stdout",
     "output_type": "stream",
     "text": [
      "정확도 0.8979591836734694\n",
      "카파통계량 0.6201550387596899\n",
      "민감도 0.6666666666666666\n",
      "특이도 0.6666666666666666\n",
      "정밀도 0.6956521739130435\n",
      "재현율 0.6666666666666666\n"
     ]
    }
   ],
   "source": [
    "#정확도\n",
    "from  sklearn.metrics  import  accuracy_score\n",
    "acurracy = accuracy_score( y_test, result22)\n",
    "print('정확도', acurracy)\n",
    "\n",
    "#카파통계량\n",
    "from sklearn.metrics import cohen_kappa_score\n",
    "kappa=cohen_kappa_score(y_test, result22)\n",
    "print('카파통계량',kappa )\n",
    "\n",
    "#민감도 #실제로 '긍정'인 범주 중에서 '긍정'으로 올바르게 예측한 비율 =재현율\n",
    "from sklearn.metrics import recall_score\n",
    "print('민감도', recall_score(y_test, result22, pos_label=1)) \n",
    "\n",
    "#특이도 #실제로 '부정'인 범주 중에서 '부정'으로 올바르게 예측한 비율\n",
    "from sklearn.metrics import confusion_matrix\n",
    "tn, fp, fn, tp= confusion_matrix( y_test, result22 ).ravel()\n",
    "sensitivity=tp/(tp+fn)                            \n",
    "print('특이도', sensitivity)\n",
    "\n",
    "#정밀도 '긍정'으로 예측한 것 중에서 실제로 '긍정'인 것의 비율\n",
    "precision = tp/(tp+fp)\n",
    "print('정밀도', precision)\n",
    "\n",
    "#재현율\n",
    "recall = tp/(tp+fn)\n",
    "print('재현율', recall)\n"
   ]
  },
  {
   "cell_type": "code",
   "execution_count": 27,
   "metadata": {},
   "outputs": [
    {
     "data": {
      "text/plain": [
       "87.07482993197279"
      ]
     },
     "execution_count": 27,
     "metadata": {},
     "output_type": "execute_result"
    }
   ],
   "source": [
    "#세번째 모델생성 <JRip> -Riper\n",
    "# 1R 알고리즘 (하나의 조건)  &  Riper 알고리즘 (복수의 조건)\n",
    "# R에서와는 다르게 파이썬에서의 Riper 패키지는 이진분류만 가능\n",
    "\n",
    "import wittgenstein as lw\n",
    "\n",
    "model3 = lw.RIPPER(random_state=1)\n",
    "model3.fit(x_train2, y_train)\n",
    "result3=model3.predict(x_test2)\n",
    "sum(result3==y_test)/len(y_test)*100    #87.07482993197279"
   ]
  },
  {
   "cell_type": "code",
   "execution_count": 28,
   "metadata": {},
   "outputs": [
    {
     "name": "stdout",
     "output_type": "stream",
     "text": [
      "정확도 0.8707482993197279\n",
      "카파통계량 0.563525550867323\n",
      "민감도 0.7083333333333334\n",
      "특이도 0.7083333333333334\n",
      "정밀도 0.5862068965517241\n",
      "재현율 0.7083333333333334\n"
     ]
    }
   ],
   "source": [
    "#정확도\n",
    "from  sklearn.metrics  import  accuracy_score\n",
    "acurracy = accuracy_score( y_test, result3)\n",
    "print('정확도', acurracy)\n",
    "\n",
    "#카파통계량\n",
    "from sklearn.metrics import cohen_kappa_score\n",
    "kappa=cohen_kappa_score(y_test, result3)\n",
    "print('카파통계량',kappa )\n",
    "\n",
    "#민감도 #실제로 '긍정'인 범주 중에서 '긍정'으로 올바르게 예측한 비율 =재현율\n",
    "from sklearn.metrics import recall_score\n",
    "print('민감도', recall_score(y_test, result3, pos_label=1)) \n",
    "\n",
    "#특이도 #실제로 '부정'인 범주 중에서 '부정'으로 올바르게 예측한 비율\n",
    "from sklearn.metrics import confusion_matrix\n",
    "tn, fp, fn, tp= confusion_matrix( y_test, result3 ).ravel()\n",
    "sensitivity=tp/(tp+fn)                            \n",
    "print('특이도', sensitivity)\n",
    "\n",
    "#정밀도 '긍정'으로 예측한 것 중에서 실제로 '긍정'인 것의 비율\n",
    "precision = tp/(tp+fp)\n",
    "print('정밀도', precision)\n",
    "\n",
    "#재현율\n",
    "recall = tp/(tp+fn)\n",
    "print('재현율', recall)\n"
   ]
  },
  {
   "cell_type": "code",
   "execution_count": 23,
   "metadata": {},
   "outputs": [
    {
     "name": "stdout",
     "output_type": "stream",
     "text": [
      "[[113  10]\n",
      " [ 14  10]]\n"
     ]
    }
   ],
   "source": [
    "### 네번째 모델생성 <DecisionTree>\n",
    "\n",
    "from sklearn.tree import DecisionTreeClassifier\n",
    "model4=DecisionTreeClassifier(criterion='entropy', max_depth=10, random_state=1)\n",
    "\n",
    "model4.fit(x_train2, y_train)\n",
    "result4=model4.predict(x_test2)\n",
    "sum(result4==y_test)/len(y_test)*100           #83.6734693877551\n",
    "\n",
    "from sklearn.metrics import confusion_matrix\n",
    "a=confusion_matrix(y_test, result4)\n",
    "print(a)                                        #fn=14\n"
   ]
  },
  {
   "cell_type": "code",
   "execution_count": 24,
   "metadata": {},
   "outputs": [
    {
     "name": "stdout",
     "output_type": "stream",
     "text": [
      "83.6734693877551\n",
      "[[111  12]\n",
      " [ 12  12]]\n"
     ]
    }
   ],
   "source": [
    "# entropy 지수가 아닌 gini 지수로 바꾸어 모델생성\n",
    "\n",
    "from sklearn.tree import DecisionTreeClassifier\n",
    "model44=DecisionTreeClassifier(criterion='gini', max_depth=10, random_state=1)\n",
    "\n",
    "model44.fit(x_train2, y_train)\n",
    "result44=model44.predict(x_test2)\n",
    "print(sum(result44==y_test)/len(y_test)*100)\n",
    "\n",
    "from sklearn.metrics import confusion_matrix\n",
    "a=confusion_matrix(y_test, result44)\n",
    "print(a)\n",
    "\n",
    "# 정확도는 같지만 fn값이 향상되었습니다. (14 -> 12)"
   ]
  },
  {
   "cell_type": "code",
   "execution_count": 25,
   "metadata": {},
   "outputs": [
    {
     "name": "stdout",
     "output_type": "stream",
     "text": [
      "정확도 0.8367346938775511\n",
      "카파통계량 0.4024390243902439\n",
      "민감도 0.5\n",
      "특이도 0.5\n",
      "정밀도 0.5\n",
      "재현율 0.5\n"
     ]
    }
   ],
   "source": [
    "#정확도\n",
    "from  sklearn.metrics  import  accuracy_score\n",
    "acurracy = accuracy_score( y_test, result44)\n",
    "print('정확도', acurracy)\n",
    "\n",
    "#카파통계량\n",
    "from sklearn.metrics import cohen_kappa_score\n",
    "kappa=cohen_kappa_score(y_test, result44)\n",
    "print('카파통계량',kappa )\n",
    "\n",
    "#민감도 #실제로 '긍정'인 범주 중에서 '긍정'으로 올바르게 예측한 비율 =재현율\n",
    "from sklearn.metrics import recall_score\n",
    "print('민감도', recall_score(y_test, result44, pos_label=1)) \n",
    "\n",
    "#특이도 #실제로 '부정'인 범주 중에서 '부정'으로 올바르게 예측한 비율\n",
    "from sklearn.metrics import confusion_matrix\n",
    "tn, fp, fn, tp= confusion_matrix( y_test, result44 ).ravel()\n",
    "sensitivity=tp/(tp+fn)                            \n",
    "print('특이도', sensitivity)\n",
    "\n",
    "#정밀도 '긍정'으로 예측한 것 중에서 실제로 '긍정'인 것의 비율\n",
    "precision = tp/(tp+fp)\n",
    "print('정밀도', precision)\n",
    "\n",
    "#재현율\n",
    "recall = tp/(tp+fn)\n",
    "print('재현율', recall)\n"
   ]
  },
  {
   "cell_type": "code",
   "execution_count": 35,
   "metadata": {},
   "outputs": [
    {
     "name": "stdout",
     "output_type": "stream",
     "text": [
      "88.9644746787604\n",
      "89.79591836734694\n"
     ]
    }
   ],
   "source": [
    "### 다섯번째 모델생성 <SVM>\n",
    "#주요 커널의 종류 : rbf, poly, sigmoid, linear\n",
    "\n",
    "from sklearn import svm\n",
    "model5 = svm.SVC(kernel='rbf')\n",
    "\n",
    "model5.fit(x_train2, y_train)\n",
    "result5=model5.predict(x_test2)\n",
    "\n",
    "print(model5.score(x_train2, y_train)*100)            #훈련 데이터 정확도  #88.9644746787604\n",
    "print(sum(result5==y_test)/len(y_test)*100)       #테스트 데이터 정확도   #89.79591836734694"
   ]
  },
  {
   "cell_type": "code",
   "execution_count": 36,
   "metadata": {},
   "outputs": [
    {
     "name": "stdout",
     "output_type": "stream",
     "text": [
      "Fitting 3 folds for each of 100 candidates, totalling 300 fits\n"
     ]
    },
    {
     "name": "stderr",
     "output_type": "stream",
     "text": [
      "[Parallel(n_jobs=-1)]: Using backend LokyBackend with 12 concurrent workers.\n",
      "[Parallel(n_jobs=-1)]: Done  17 tasks      | elapsed:    2.3s\n",
      "[Parallel(n_jobs=-1)]: Done 249 tasks      | elapsed:    4.1s\n",
      "[Parallel(n_jobs=-1)]: Done 277 out of 300 | elapsed:    6.6s remaining:    0.5s\n"
     ]
    },
    {
     "name": "stdout",
     "output_type": "stream",
     "text": [
      "89.04006046863189\n",
      "91.15646258503402\n",
      "{'C': 1, 'gamma': 1, 'kernel': 'linear'}\n"
     ]
    },
    {
     "name": "stderr",
     "output_type": "stream",
     "text": [
      "[Parallel(n_jobs=-1)]: Done 300 out of 300 | elapsed:   24.0s finished\n"
     ]
    }
   ],
   "source": [
    "##다섯번째 서포트벡터머신 모델의 성능 높이기\n",
    "#<SVM>의 최종 정확도  #91.15646258503402\n",
    "\n",
    "from sklearn import svm\n",
    "from sklearn.model_selection import GridSearchCV\n",
    "\n",
    "param_grid = {'C' : [0.1, 1, 10, 100, 1000],\n",
    "              'gamma' : [1, 0.1, 0.01, 0.001, 0.0001],\n",
    "              'kernel' : ['rbf', 'poly', 'sigmoid', 'linear']}\n",
    "\n",
    "grid = GridSearchCV(svm.SVC(), param_grid, refit=True, cv=3, n_jobs=-1,\n",
    "                   verbose=2)\n",
    "\n",
    "grid.fit(x_train2, y_train)\n",
    "\n",
    "result55 = grid.predict(x_test2)\n",
    "\n",
    "print(grid.score(x_train2, y_train)*100)         #훈련 데이터 정확도      89.04006046863189\n",
    "print(sum(result55==y_test)/len(y_test)*100)    #테스트 데이터 정확도     91.15646258503402\n",
    "\n",
    "print(grid.best_params_)\n",
    "\n",
    "#91.15646258503402\n",
    "#{'C': 1, 'gamma': 1, 'kernel': 'linear'}\n"
   ]
  },
  {
   "cell_type": "code",
   "execution_count": 37,
   "metadata": {},
   "outputs": [
    {
     "name": "stdout",
     "output_type": "stream",
     "text": [
      "정확도 0.9115646258503401\n",
      "카파통계량 0.6187911430281268\n",
      "민감도 0.5416666666666666\n",
      "특이도 0.5416666666666666\n",
      "정밀도 0.8666666666666667\n",
      "재현율 0.5416666666666666\n"
     ]
    }
   ],
   "source": [
    "#정확도\n",
    "from  sklearn.metrics  import  accuracy_score\n",
    "acurracy = accuracy_score( y_test, result55)\n",
    "print('정확도', acurracy)\n",
    "\n",
    "#카파통계량\n",
    "from sklearn.metrics import cohen_kappa_score\n",
    "kappa=cohen_kappa_score(y_test, result55)\n",
    "print('카파통계량',kappa )\n",
    "\n",
    "#민감도 #실제로 '긍정'인 범주 중에서 '긍정'으로 올바르게 예측한 비율 =재현율\n",
    "from sklearn.metrics import recall_score\n",
    "print('민감도', recall_score(y_test, result55, pos_label=1)) \n",
    "\n",
    "#특이도 #실제로 '부정'인 범주 중에서 '부정'으로 올바르게 예측한 비율\n",
    "from sklearn.metrics import confusion_matrix\n",
    "tn, fp, fn, tp= confusion_matrix( y_test, result55 ).ravel()\n",
    "sensitivity=tp/(tp+fn)                            \n",
    "print('특이도', sensitivity)\n",
    "\n",
    "#정밀도 '긍정'으로 예측한 것 중에서 실제로 '긍정'인 것의 비율\n",
    "precision = tp/(tp+fp)\n",
    "print('정밀도', precision)\n",
    "\n",
    "#재현율\n",
    "recall = tp/(tp+fn)\n",
    "print('재현율', recall)\n"
   ]
  },
  {
   "cell_type": "code",
   "execution_count": 38,
   "metadata": {},
   "outputs": [
    {
     "name": "stdout",
     "output_type": "stream",
     "text": [
      "87.07482993197279\n"
     ]
    },
    {
     "name": "stderr",
     "output_type": "stream",
     "text": [
      "C:\\Users\\snrnq\\anaconda3\\lib\\site-packages\\sklearn\\neural_network\\_multilayer_perceptron.py:582: ConvergenceWarning: Stochastic Optimizer: Maximum iterations (200) reached and the optimization hasn't converged yet.\n",
      "  warnings.warn(\n"
     ]
    }
   ],
   "source": [
    "#여섯번째 MLPClassifier 모델\n",
    "#인공신경망. 다중신경망.\n",
    "\n",
    "from sklearn.neural_network import MLPClassifier\n",
    "\n",
    "model6 = MLPClassifier(random_state=1)\n",
    "\n",
    "model6.fit(x_train2, y_train)\n",
    "result6=model6.predict(x_test2)\n",
    "print(sum(result6==y_test)/len(y_test)*100)      #87.07482993197279"
   ]
  },
  {
   "cell_type": "code",
   "execution_count": 39,
   "metadata": {},
   "outputs": [
    {
     "name": "stdout",
     "output_type": "stream",
     "text": [
      "Fitting 3 folds for each of 48 candidates, totalling 144 fits\n"
     ]
    },
    {
     "name": "stderr",
     "output_type": "stream",
     "text": [
      "[Parallel(n_jobs=-1)]: Using backend LokyBackend with 12 concurrent workers.\n",
      "[Parallel(n_jobs=-1)]: Done  17 tasks      | elapsed:    2.7s\n",
      "[Parallel(n_jobs=-1)]: Done 144 out of 144 | elapsed:   47.5s finished\n"
     ]
    },
    {
     "name": "stdout",
     "output_type": "stream",
     "text": [
      "89.1912320483749\n",
      "92.51700680272108\n",
      "{'activation': 'logistic', 'hidden_layer_sizes': (200, 200), 'solver': 'adam'}\n"
     ]
    }
   ],
   "source": [
    "# MLPClassifier 성능 높이기    # 92.51700680272108\n",
    "\n",
    "param_grid = [ { 'hidden_layer_sizes' : [ (100, 50), (100, 150), (100,100), (200,200)],\n",
    "                  'activation' : ['identity', 'logistic', 'tanh', 'relu'],\n",
    "                  'solver' : ['lbfgs', 'sgd', 'adam']} ]\n",
    "grid2= GridSearchCV(MLPClassifier( random_state=1), param_grid, cv=3, refit=True, n_jobs=-1,verbose=2)\n",
    "grid2.fit(x_train2, y_train)\n",
    "result66 = grid2.predict(x_test2)\n",
    "\n",
    "print(grid2.score(x_train2, y_train)*100)            #89.1912320483749\n",
    "print(sum(result66==y_test)/len(y_test)*100)         #92.51700680272108\n",
    "\n",
    "print(grid2.best_params_)"
   ]
  },
  {
   "cell_type": "code",
   "execution_count": 40,
   "metadata": {
    "scrolled": true
   },
   "outputs": [
    {
     "name": "stdout",
     "output_type": "stream",
     "text": [
      "정확도 0.9251700680272109\n",
      "카파통계량 0.7214470284237726\n",
      "민감도 0.75\n",
      "특이도 0.75\n",
      "정밀도 0.782608695652174\n",
      "재현율 0.75\n"
     ]
    }
   ],
   "source": [
    "#정확도\n",
    "from  sklearn.metrics  import  accuracy_score\n",
    "acurracy = accuracy_score( y_test, result66)\n",
    "print('정확도', acurracy)\n",
    "\n",
    "#카파통계량\n",
    "from sklearn.metrics import cohen_kappa_score\n",
    "kappa=cohen_kappa_score(y_test, result66)\n",
    "print('카파통계량',kappa )\n",
    "\n",
    "#민감도 #실제로 '긍정'인 범주 중에서 '긍정'으로 올바르게 예측한 비율 =재현율\n",
    "from sklearn.metrics import recall_score\n",
    "print('민감도', recall_score(y_test, result66, pos_label=1)) \n",
    "\n",
    "#특이도 #실제로 '부정'인 범주 중에서 '부정'으로 올바르게 예측한 비율\n",
    "from sklearn.metrics import confusion_matrix\n",
    "tn, fp, fn, tp= confusion_matrix( y_test, result66 ).ravel()\n",
    "sensitivity=tp/(tp+fn)                            \n",
    "print('특이도', sensitivity)\n",
    "\n",
    "#정밀도 '긍정'으로 예측한 것 중에서 실제로 '긍정'인 것의 비율\n",
    "precision = tp/(tp+fp)\n",
    "print('정밀도', precision)\n",
    "\n",
    "#재현율\n",
    "recall = tp/(tp+fn)\n",
    "print('재현율', recall)\n"
   ]
  },
  {
   "cell_type": "code",
   "execution_count": null,
   "metadata": {},
   "outputs": [],
   "source": [
    "# 파이썬을 이용한 6가지 모델의 성능평가 시각화"
   ]
  },
  {
   "cell_type": "code",
   "execution_count": 137,
   "metadata": {},
   "outputs": [
    {
     "data": {
      "text/html": [
       "<div>\n",
       "<style scoped>\n",
       "    .dataframe tbody tr th:only-of-type {\n",
       "        vertical-align: middle;\n",
       "    }\n",
       "\n",
       "    .dataframe tbody tr th {\n",
       "        vertical-align: top;\n",
       "    }\n",
       "\n",
       "    .dataframe thead th {\n",
       "        text-align: right;\n",
       "    }\n",
       "</style>\n",
       "<table border=\"1\" class=\"dataframe\">\n",
       "  <thead>\n",
       "    <tr style=\"text-align: right;\">\n",
       "      <th></th>\n",
       "      <th>knn</th>\n",
       "      <th>NaiveBayes</th>\n",
       "      <th>Jrip</th>\n",
       "      <th>DecisionTree</th>\n",
       "      <th>SVM</th>\n",
       "      <th>MLP</th>\n",
       "    </tr>\n",
       "  </thead>\n",
       "  <tbody>\n",
       "    <tr>\n",
       "      <th>0</th>\n",
       "      <td>0.877551</td>\n",
       "      <td>0.897959</td>\n",
       "      <td>0.870748</td>\n",
       "      <td>0.836734</td>\n",
       "      <td>0.911564</td>\n",
       "      <td>0.925170</td>\n",
       "    </tr>\n",
       "    <tr>\n",
       "      <th>1</th>\n",
       "      <td>0.358078</td>\n",
       "      <td>0.620155</td>\n",
       "      <td>0.563525</td>\n",
       "      <td>0.402439</td>\n",
       "      <td>0.618791</td>\n",
       "      <td>0.721447</td>\n",
       "    </tr>\n",
       "    <tr>\n",
       "      <th>2</th>\n",
       "      <td>0.250000</td>\n",
       "      <td>0.666666</td>\n",
       "      <td>0.708333</td>\n",
       "      <td>0.500000</td>\n",
       "      <td>0.541666</td>\n",
       "      <td>0.750000</td>\n",
       "    </tr>\n",
       "    <tr>\n",
       "      <th>3</th>\n",
       "      <td>0.250000</td>\n",
       "      <td>0.666666</td>\n",
       "      <td>0.708333</td>\n",
       "      <td>0.500000</td>\n",
       "      <td>0.541666</td>\n",
       "      <td>0.750000</td>\n",
       "    </tr>\n",
       "    <tr>\n",
       "      <th>4</th>\n",
       "      <td>1.000000</td>\n",
       "      <td>0.695652</td>\n",
       "      <td>0.586206</td>\n",
       "      <td>0.500000</td>\n",
       "      <td>0.866666</td>\n",
       "      <td>0.782609</td>\n",
       "    </tr>\n",
       "    <tr>\n",
       "      <th>5</th>\n",
       "      <td>0.250000</td>\n",
       "      <td>0.666666</td>\n",
       "      <td>0.708333</td>\n",
       "      <td>0.500000</td>\n",
       "      <td>0.541666</td>\n",
       "      <td>0.750000</td>\n",
       "    </tr>\n",
       "  </tbody>\n",
       "</table>\n",
       "</div>"
      ],
      "text/plain": [
       "        knn  NaiveBayes      Jrip  DecisionTree       SVM       MLP\n",
       "0  0.877551    0.897959  0.870748      0.836734  0.911564  0.925170\n",
       "1  0.358078    0.620155  0.563525      0.402439  0.618791  0.721447\n",
       "2  0.250000    0.666666  0.708333      0.500000  0.541666  0.750000\n",
       "3  0.250000    0.666666  0.708333      0.500000  0.541666  0.750000\n",
       "4  1.000000    0.695652  0.586206      0.500000  0.866666  0.782609\n",
       "5  0.250000    0.666666  0.708333      0.500000  0.541666  0.750000"
      ]
     },
     "execution_count": 137,
     "metadata": {},
     "output_type": "execute_result"
    }
   ],
   "source": [
    "import pandas as pd\n",
    "\n",
    "data=pd.read_csv(\"c:\\\\data\\\\data.csv\")\n",
    "data"
   ]
  },
  {
   "cell_type": "code",
   "execution_count": 148,
   "metadata": {
    "scrolled": true
   },
   "outputs": [
    {
     "data": {
      "text/html": [
       "<div>\n",
       "<style scoped>\n",
       "    .dataframe tbody tr th:only-of-type {\n",
       "        vertical-align: middle;\n",
       "    }\n",
       "\n",
       "    .dataframe tbody tr th {\n",
       "        vertical-align: top;\n",
       "    }\n",
       "\n",
       "    .dataframe thead th {\n",
       "        text-align: right;\n",
       "    }\n",
       "</style>\n",
       "<table border=\"1\" class=\"dataframe\">\n",
       "  <thead>\n",
       "    <tr style=\"text-align: right;\">\n",
       "      <th></th>\n",
       "      <th>knn</th>\n",
       "      <th>NaiveBayes</th>\n",
       "      <th>Jrip</th>\n",
       "      <th>DecisionTree</th>\n",
       "      <th>SVM</th>\n",
       "      <th>MLP</th>\n",
       "    </tr>\n",
       "  </thead>\n",
       "  <tbody>\n",
       "    <tr>\n",
       "      <th>정확도</th>\n",
       "      <td>0.877551</td>\n",
       "      <td>0.897959</td>\n",
       "      <td>0.870748</td>\n",
       "      <td>0.836734</td>\n",
       "      <td>0.911564</td>\n",
       "      <td>0.925170</td>\n",
       "    </tr>\n",
       "    <tr>\n",
       "      <th>카파통계량</th>\n",
       "      <td>0.358078</td>\n",
       "      <td>0.620155</td>\n",
       "      <td>0.563525</td>\n",
       "      <td>0.402439</td>\n",
       "      <td>0.618791</td>\n",
       "      <td>0.721447</td>\n",
       "    </tr>\n",
       "    <tr>\n",
       "      <th>민감도</th>\n",
       "      <td>0.250000</td>\n",
       "      <td>0.666666</td>\n",
       "      <td>0.708333</td>\n",
       "      <td>0.500000</td>\n",
       "      <td>0.541666</td>\n",
       "      <td>0.750000</td>\n",
       "    </tr>\n",
       "    <tr>\n",
       "      <th>특이도</th>\n",
       "      <td>0.250000</td>\n",
       "      <td>0.666666</td>\n",
       "      <td>0.708333</td>\n",
       "      <td>0.500000</td>\n",
       "      <td>0.541666</td>\n",
       "      <td>0.750000</td>\n",
       "    </tr>\n",
       "    <tr>\n",
       "      <th>정밀도</th>\n",
       "      <td>1.000000</td>\n",
       "      <td>0.695652</td>\n",
       "      <td>0.586206</td>\n",
       "      <td>0.500000</td>\n",
       "      <td>0.866666</td>\n",
       "      <td>0.782609</td>\n",
       "    </tr>\n",
       "    <tr>\n",
       "      <th>재현율</th>\n",
       "      <td>0.250000</td>\n",
       "      <td>0.666666</td>\n",
       "      <td>0.708333</td>\n",
       "      <td>0.500000</td>\n",
       "      <td>0.541666</td>\n",
       "      <td>0.750000</td>\n",
       "    </tr>\n",
       "  </tbody>\n",
       "</table>\n",
       "</div>"
      ],
      "text/plain": [
       "            knn  NaiveBayes      Jrip  DecisionTree       SVM       MLP\n",
       "정확도    0.877551    0.897959  0.870748      0.836734  0.911564  0.925170\n",
       "카파통계량  0.358078    0.620155  0.563525      0.402439  0.618791  0.721447\n",
       "민감도    0.250000    0.666666  0.708333      0.500000  0.541666  0.750000\n",
       "특이도    0.250000    0.666666  0.708333      0.500000  0.541666  0.750000\n",
       "정밀도    1.000000    0.695652  0.586206      0.500000  0.866666  0.782609\n",
       "재현율    0.250000    0.666666  0.708333      0.500000  0.541666  0.750000"
      ]
     },
     "execution_count": 148,
     "metadata": {},
     "output_type": "execute_result"
    }
   ],
   "source": [
    "data.index=[\"정확도\", \"카파통계량\", \"민감도\", \"특이도\", \"정밀도\", \"재현율\"]\n",
    "data"
   ]
  },
  {
   "cell_type": "code",
   "execution_count": null,
   "metadata": {},
   "outputs": [],
   "source": [
    "import plotly.graph_objects as go\n",
    "import plotly.offline as pyo\n",
    "\n",
    "categories =  [\"정확도\", \"카파통계량\", \"민감도\", \"특이도\", \"정밀도\", \"재현율\"]\n",
    "categories = [*categories, categories[0]]\n",
    "\n",
    "restaurant_1 = p['knn']\n",
    "restaurant_2 = p['NaiveBayes']\n",
    "restaurant_3 = p['Jrip']\n",
    "restaurant_4 = p['DecisionTree']\n",
    "restaurant_5 = p['SVM']\n",
    "restaurant_6 = p['MLP']\n",
    "restaurant_1 = [*restaurant_1, restaurant_1[0]]\n",
    "restaurant_2 = [*restaurant_2, restaurant_2[0]]\n",
    "restaurant_3 = [*restaurant_3, restaurant_3[0]]\n",
    "restaurant_4 = [*restaurant_4, restaurant_4[0]]\n",
    "restaurant_5 = [*restaurant_5, restaurant_5[0]]\n",
    "restaurant_6 = [*restaurant_6, restaurant_6[0]]\n",
    "\n",
    "fig = go.Figure(\n",
    "    data=[\n",
    "        go.Scatterpolar(r=restaurant_1, theta=categories, fill='toself', name='knn'),\n",
    "        go.Scatterpolar(r=restaurant_2, theta=categories, fill='toself', name='Naive Bayes'),\n",
    "        go.Scatterpolar(r=restaurant_3, theta=categories, fill='toself', name='Jrip'),\n",
    "         go.Scatterpolar(r=restaurant_4, theta=categories, fill='toself', name='DecisionTree'),\n",
    "        go.Scatterpolar(r=restaurant_5, theta=categories, fill='toself', name='SVM'),\n",
    "         go.Scatterpolar(r=restaurant_6, theta=categories, fill='toself', name='MLP')\n",
    "    ],\n",
    "    layout=go.Layout(\n",
    "        title=go.layout.Title(text='모델 성능평가'),\n",
    "        polar={'radialaxis': {'visible': True}},\n",
    "        showlegend=True\n",
    "    )\n",
    ")\n",
    "\n",
    "fig.show()\n",
    "pyo.plot(fig)"
   ]
  },
  {
   "cell_type": "code",
   "execution_count": 10,
   "metadata": {},
   "outputs": [
    {
     "name": "stdout",
     "output_type": "stream",
     "text": [
      "95.76719576719577\n",
      "90.47619047619048\n"
     ]
    }
   ],
   "source": [
    "## 일곱번째모델(앙상블) <Random Forest>=의사결정트리(decisiontree)+배깅(bagging)\n",
    "\n",
    "from sklearn.ensemble import RandomForestClassifier\n",
    "model7=RandomForestClassifier(n_estimators=10, max_depth=10, min_samples_split=3, random_state=1)\n",
    "\n",
    "#n_estimators=10 은 의사결정트리 모델의 개수\n",
    "#max_depth=20 은 의사결정트리의 가지치기했을 때의 깊이 \n",
    "#(클수록 분류는 잘하지만, 오버피팅 심할 수 있음)\n",
    "#min_samples_split=2 은 노드를 분할하기 위한 최소한의 샘플 데이터수\n",
    "#(기본값은 2, '2개까지도 분류하겠다'. 너무 작게 설정하면 분할 노드가 많아져서 오버피팅 가능성 증가)\n",
    "\n",
    "model7.fit(x_train2, y_train)\n",
    "result7=model7.predict(x_test2)\n",
    "\n",
    "print(model7.score(x_train2, y_train)*100)    #훈련 데이터    #95.76719576719577\n",
    "print(model7.score(x_test2, y_test)*100)     #테스트 데이터   #90.47619047619048"
   ]
  },
  {
   "cell_type": "code",
   "execution_count": 53,
   "metadata": {},
   "outputs": [
    {
     "name": "stdout",
     "output_type": "stream",
     "text": [
      "정확도 0.9047619047619048\n",
      "카파통계량 0.5636132315521629\n",
      "민감도 0.4583333333333333\n",
      "특이도 0.4583333333333333\n",
      "정밀도 0.9166666666666666\n",
      "재현율 0.4583333333333333\n"
     ]
    }
   ],
   "source": [
    "#정확도\n",
    "from  sklearn.metrics  import  accuracy_score\n",
    "acurracy = accuracy_score( y_test, result7)\n",
    "print('정확도', acurracy)\n",
    "\n",
    "#카파통계량\n",
    "from sklearn.metrics import cohen_kappa_score\n",
    "kappa=cohen_kappa_score(y_test, result7)\n",
    "print('카파통계량',kappa )\n",
    "\n",
    "#민감도 #실제로 '긍정'인 범주 중에서 '긍정'으로 올바르게 예측한 비율 =재현율\n",
    "from sklearn.metrics import recall_score\n",
    "print('민감도', recall_score(y_test, result7, pos_label=1)) \n",
    "\n",
    "#특이도 #실제로 '부정'인 범주 중에서 '부정'으로 올바르게 예측한 비율\n",
    "from sklearn.metrics import confusion_matrix\n",
    "tn, fp, fn, tp= confusion_matrix( y_test, result7 ).ravel()\n",
    "sensitivity=tp/(tp+fn)                            \n",
    "print('특이도', sensitivity)\n",
    "\n",
    "#정밀도 '긍정'으로 예측한 것 중에서 실제로 '긍정'인 것의 비율\n",
    "precision = tp/(tp+fp)\n",
    "print('정밀도', precision)\n",
    "\n",
    "#재현율\n",
    "recall = tp/(tp+fn)\n",
    "print('재현율', recall)"
   ]
  },
  {
   "cell_type": "code",
   "execution_count": 43,
   "metadata": {},
   "outputs": [
    {
     "name": "stdout",
     "output_type": "stream",
     "text": [
      "90.47619047619048\n",
      "92.51700680272108\n"
     ]
    }
   ],
   "source": [
    "# 여덟번째 모델(앙상블) <Boosting>\n",
    "\n",
    "from sklearn.ensemble import AdaBoostClassifier\n",
    "model9=AdaBoostClassifier(n_estimators=46, learning_rate=1.0, random_state=1)\n",
    "\n",
    "#모델 훈련\n",
    "model9.fit(x_train2, y_train)\n",
    "\n",
    "#모델 예측\n",
    "result9=model9.predict(x_test2)\n",
    "\n",
    "#모델 평가\n",
    "print(model9.score(x_train2, y_train)*100)    #훈련 데이터  90.47619047619048\n",
    "print(model9.score(x_test2, y_test)*100)     #테스트 데이터  92.51700680272108"
   ]
  },
  {
   "cell_type": "code",
   "execution_count": 54,
   "metadata": {},
   "outputs": [
    {
     "name": "stdout",
     "output_type": "stream",
     "text": [
      "정확도 0.9251700680272109\n",
      "카파통계량 0.6896948762233737\n",
      "민감도 0.625\n",
      "특이도 0.625\n",
      "정밀도 0.8823529411764706\n",
      "재현율 0.625\n"
     ]
    }
   ],
   "source": [
    "#정확도\n",
    "from  sklearn.metrics  import  accuracy_score\n",
    "acurracy = accuracy_score( y_test, result9)\n",
    "print('정확도', acurracy)\n",
    "\n",
    "#카파통계량\n",
    "from sklearn.metrics import cohen_kappa_score\n",
    "kappa=cohen_kappa_score(y_test, result9)\n",
    "print('카파통계량',kappa )\n",
    "\n",
    "#민감도 #실제로 '긍정'인 범주 중에서 '긍정'으로 올바르게 예측한 비율 =재현율\n",
    "from sklearn.metrics import recall_score\n",
    "print('민감도', recall_score(y_test, result9, pos_label=1)) \n",
    "\n",
    "#특이도 #실제로 '부정'인 범주 중에서 '부정'으로 올바르게 예측한 비율\n",
    "from sklearn.metrics import confusion_matrix\n",
    "tn, fp, fn, tp= confusion_matrix( y_test, result9 ).ravel()\n",
    "sensitivity=tp/(tp+fn)                            \n",
    "print('특이도', sensitivity)\n",
    "\n",
    "#정밀도 '긍정'으로 예측한 것 중에서 실제로 '긍정'인 것의 비율\n",
    "precision = tp/(tp+fp)\n",
    "print('정밀도', precision)\n",
    "\n",
    "#재현율\n",
    "recall = tp/(tp+fn)\n",
    "print('재현율', recall)"
   ]
  },
  {
   "cell_type": "code",
   "execution_count": 44,
   "metadata": {},
   "outputs": [
    {
     "name": "stderr",
     "output_type": "stream",
     "text": [
      "C:\\Users\\snrnq\\anaconda3\\lib\\site-packages\\sklearn\\neural_network\\_multilayer_perceptron.py:582: ConvergenceWarning: Stochastic Optimizer: Maximum iterations (200) reached and the optimization hasn't converged yet.\n",
      "  warnings.warn(\n"
     ]
    },
    {
     "name": "stdout",
     "output_type": "stream",
     "text": [
      "91.15646258503402\n",
      "91.15646258503402\n"
     ]
    },
    {
     "name": "stderr",
     "output_type": "stream",
     "text": [
      "C:\\Users\\snrnq\\anaconda3\\lib\\site-packages\\sklearn\\neural_network\\_multilayer_perceptron.py:582: ConvergenceWarning: Stochastic Optimizer: Maximum iterations (200) reached and the optimization hasn't converged yet.\n",
      "  warnings.warn(\n"
     ]
    }
   ],
   "source": [
    "# 아홉번째 모델(앙상블)  [MLP + SVM + NB]\n",
    "\n",
    "from sklearn.neural_network import MLPClassifier #신경망\n",
    "from sklearn.svm import SVC                      #서포트벡터\n",
    "from sklearn.naive_bayes import BernoulliNB     #나이브베이즈\n",
    "from sklearn.ensemble import VotingClassifier    #분류\n",
    "\n",
    "r1=MLPClassifier(random_state=1)\n",
    "r2=SVC(random_state=1)\n",
    "r3=BernoulliNB()\n",
    "eclf1=VotingClassifier(estimators=[ ('mlp', r1), ('svm', r2), ('naive', r3) ], voting='hard')\n",
    "\n",
    "train_result=eclf1.fit(x_train2, y_train).predict(x_train2)\n",
    "test_result=eclf1.fit(x_trㅋain2, y_train).predict(x_test2)\n",
    "\n",
    "print(sum(train_result==y_train)/len(y_train)*100)   #91.15646258503402\n",
    "print(sum(test_result==y_test)/len(y_test)*100)      #91.15646258503402"
   ]
  },
  {
   "cell_type": "code",
   "execution_count": 50,
   "metadata": {},
   "outputs": [
    {
     "name": "stdout",
     "output_type": "stream",
     "text": [
      "Fitting 3 folds for each of 48 candidates, totalling 144 fits\n"
     ]
    },
    {
     "name": "stderr",
     "output_type": "stream",
     "text": [
      "[Parallel(n_jobs=-1)]: Using backend LokyBackend with 12 concurrent workers.\n",
      "[Parallel(n_jobs=-1)]: Done  17 tasks      | elapsed:    3.0s\n",
      "[Parallel(n_jobs=-1)]: Done 144 out of 144 | elapsed:   48.9s finished\n"
     ]
    },
    {
     "name": "stdout",
     "output_type": "stream",
     "text": [
      "Fitting 3 folds for each of 100 candidates, totalling 300 fits\n"
     ]
    },
    {
     "name": "stderr",
     "output_type": "stream",
     "text": [
      "[Parallel(n_jobs=-1)]: Using backend LokyBackend with 12 concurrent workers.\n",
      "[Parallel(n_jobs=-1)]: Done  17 tasks      | elapsed:    0.1s\n",
      "[Parallel(n_jobs=-1)]: Done 277 out of 300 | elapsed:    4.5s remaining:    0.3s\n"
     ]
    },
    {
     "name": "stdout",
     "output_type": "stream",
     "text": [
      "mlp: 0.9251700680272109\n",
      "svm: 0.9115646258503401\n",
      "naive: 0.8979591836734694\n"
     ]
    },
    {
     "name": "stderr",
     "output_type": "stream",
     "text": [
      "[Parallel(n_jobs=-1)]: Done 300 out of 300 | elapsed:   22.8s finished\n"
     ]
    }
   ],
   "source": [
    "# 아홉번째 모델 성능개선\n",
    "#각각의 최적의 파라미터 구해서 적용한 정확도\n",
    "\n",
    "from sklearn.neural_network import MLPClassifier #신경망\n",
    "from sklearn.svm import SVC                      #서포트벡터\n",
    "from sklearn.naive_bayes import BernoulliNB     #나이브베이즈\n",
    "from sklearn.ensemble import VotingClassifier    #분류\n",
    "\n",
    "r1=MLPClassifier(random_state=1)\n",
    "r2=SVC(random_state=1)\n",
    "r3=BernoulliNB()\n",
    "eclf1=VotingClassifier(estimators=[ ('mlp', r1), ('svm', r2), ('naive', r3) ], voting='hard')\n",
    "\n",
    "#MLP\n",
    "from sklearn.neural_network import MLPClassifier\n",
    "from sklearn.model_selection import GridSearchCV\n",
    "param_grid = [ { 'hidden_layer_sizes' : [ (100, 50), (100, 150), (100,100), (200,200)],\n",
    "                  'activation' : ['identity', 'logistic', 'tanh', 'relu'],\n",
    "                  'solver' : ['lbfgs', 'sgd', 'adam']} ]\n",
    "mlp_best= GridSearchCV(MLPClassifier( random_state=1), param_grid, cv=3, refit=True, n_jobs=-1,verbose=2)\n",
    "mlp_best.fit(x_train2, y_train)\n",
    "\n",
    "#서포트벡터\n",
    "from sklearn import svm\n",
    "param_grid = {'C' : [0.1, 1, 10, 100, 1000],\n",
    "              'gamma' : [1, 0.1, 0.01, 0.001, 0.0001],\n",
    "              'kernel' : ['rbf', 'poly', 'sigmoid', 'linear']}\n",
    "svm_best = GridSearchCV(svm.SVC(random_state=1), param_grid, refit=True, cv=3, n_jobs=-1,\n",
    "                   verbose=2)\n",
    "svm_best.fit(x_train2, y_train)\n",
    "\n",
    "#나이브베이즈\n",
    "from sklearn.naive_bayes import GaussianNB\n",
    "naive_best = GaussianNB(var_smoothing=0.4200001)\n",
    "naive_best.fit(x_train2, y_train)\n",
    "\n",
    "print('mlp: {}'.format(mlp_best.score(x_test2, y_test)))\n",
    "print('svm: {}'.format(svm_best.score(x_test2, y_test)))\n",
    "print('naive: {}'.format(naive_best.score(x_test2, y_test)))"
   ]
  },
  {
   "cell_type": "code",
   "execution_count": 51,
   "metadata": {},
   "outputs": [
    {
     "name": "stdout",
     "output_type": "stream",
     "text": [
      "Fitting 3 folds for each of 48 candidates, totalling 144 fits\n"
     ]
    },
    {
     "name": "stderr",
     "output_type": "stream",
     "text": [
      "[Parallel(n_jobs=-1)]: Using backend LokyBackend with 12 concurrent workers.\n",
      "[Parallel(n_jobs=-1)]: Done  17 tasks      | elapsed:    2.6s\n",
      "[Parallel(n_jobs=-1)]: Done 144 out of 144 | elapsed:   49.3s finished\n"
     ]
    },
    {
     "name": "stdout",
     "output_type": "stream",
     "text": [
      "Fitting 3 folds for each of 100 candidates, totalling 300 fits\n"
     ]
    },
    {
     "name": "stderr",
     "output_type": "stream",
     "text": [
      "[Parallel(n_jobs=-1)]: Using backend LokyBackend with 12 concurrent workers.\n",
      "[Parallel(n_jobs=-1)]: Done  17 tasks      | elapsed:    0.1s\n",
      "[Parallel(n_jobs=-1)]: Done 277 out of 300 | elapsed:    4.7s remaining:    0.3s\n",
      "[Parallel(n_jobs=-1)]: Done 300 out of 300 | elapsed:   22.9s finished\n",
      "[Parallel(n_jobs=-1)]: Using backend LokyBackend with 12 concurrent workers.\n"
     ]
    },
    {
     "name": "stdout",
     "output_type": "stream",
     "text": [
      "Fitting 3 folds for each of 48 candidates, totalling 144 fits\n"
     ]
    },
    {
     "name": "stderr",
     "output_type": "stream",
     "text": [
      "[Parallel(n_jobs=-1)]: Done  17 tasks      | elapsed:    2.9s\n",
      "[Parallel(n_jobs=-1)]: Done 144 out of 144 | elapsed:   49.1s finished\n"
     ]
    },
    {
     "name": "stdout",
     "output_type": "stream",
     "text": [
      "Fitting 3 folds for each of 100 candidates, totalling 300 fits\n"
     ]
    },
    {
     "name": "stderr",
     "output_type": "stream",
     "text": [
      "[Parallel(n_jobs=-1)]: Using backend LokyBackend with 12 concurrent workers.\n",
      "[Parallel(n_jobs=-1)]: Done  17 tasks      | elapsed:    0.1s\n",
      "[Parallel(n_jobs=-1)]: Done 277 out of 300 | elapsed:    4.7s remaining:    0.3s\n"
     ]
    },
    {
     "name": "stdout",
     "output_type": "stream",
     "text": [
      "89.04006046863189\n",
      "90.47619047619048\n"
     ]
    },
    {
     "name": "stderr",
     "output_type": "stream",
     "text": [
      "[Parallel(n_jobs=-1)]: Done 300 out of 300 | elapsed:   23.5s finished\n"
     ]
    }
   ],
   "source": [
    "from sklearn.ensemble import VotingClassifier\n",
    "#create a dictionary of our models\n",
    "estimators=[('mlp', mlp_best), ('svm', svm_best), ('naive', naive_best)]\n",
    "#create our voting classifier, inputting our models\n",
    "ensemble = VotingClassifier(estimators, voting='hard')\n",
    "\n",
    "train_result2=ensemble.fit(x_train2, y_train).predict(x_train2)\n",
    "test_result2=ensemble.fit(x_train2, y_train).predict(x_test2)\n",
    "\n",
    "print(sum(train_result2==y_train)/len(y_train)*100)   #훈련데이터   #89.04006046863189\n",
    "print(sum(test_result2==y_test)/len(y_test)*100)     #테스트데이터  #90.47619047619048"
   ]
  },
  {
   "cell_type": "code",
   "execution_count": 52,
   "metadata": {
    "scrolled": true
   },
   "outputs": [
    {
     "name": "stdout",
     "output_type": "stream",
     "text": [
      "정확도 0.9047619047619048\n",
      "카파통계량 0.6124293785310735\n",
      "민감도 0.5833333333333334\n",
      "특이도 0.5833333333333334\n",
      "정밀도 0.7777777777777778\n",
      "재현율 0.5833333333333334\n"
     ]
    }
   ],
   "source": [
    "#정확도\n",
    "from  sklearn.metrics  import  accuracy_score\n",
    "acurracy = accuracy_score( y_test, test_result2)\n",
    "print('정확도', acurracy)\n",
    "\n",
    "#카파통계량\n",
    "from sklearn.metrics import cohen_kappa_score\n",
    "kappa=cohen_kappa_score(y_test, test_result2)\n",
    "print('카파통계량',kappa )\n",
    "\n",
    "#민감도 #실제로 '긍정'인 범주 중에서 '긍정'으로 올바르게 예측한 비율 =재현율\n",
    "from sklearn.metrics import recall_score\n",
    "print('민감도', recall_score(y_test, test_result2, pos_label=1)) \n",
    "\n",
    "#특이도 #실제로 '부정'인 범주 중에서 '부정'으로 올바르게 예측한 비율\n",
    "from sklearn.metrics import confusion_matrix\n",
    "tn, fp, fn, tp= confusion_matrix( y_test, test_result2 ).ravel()\n",
    "sensitivity=tp/(tp+fn)                            \n",
    "print('특이도', sensitivity)\n",
    "\n",
    "#정밀도 '긍정'으로 예측한 것 중에서 실제로 '긍정'인 것의 비율\n",
    "precision = tp/(tp+fp)\n",
    "print('정밀도', precision)\n",
    "\n",
    "#재현율\n",
    "recall = tp/(tp+fn)\n",
    "print('재현율', recall)\n"
   ]
  },
  {
   "cell_type": "code",
   "execution_count": 15,
   "metadata": {},
   "outputs": [
    {
     "data": {
      "text/plain": [
       "<AxesSubplot:>"
      ]
     },
     "execution_count": 15,
     "metadata": {},
     "output_type": "execute_result"
    },
    {
     "data": {
      "image/png": "[encoded data removed]",
      "text/plain": [
       "<Figure size 1152x720 with 2 Axes>"
      ]
     },
     "metadata": {
      "needs_background": "light"
     },
     "output_type": "display_data"
    }
   ],
   "source": [
    "# 상관계수가 높은 컬럼\n",
    "\n",
    "import seaborn as sns\n",
    "import matplotlib.pyplot as plt\n",
    "\n",
    "f, ax = plt.subplots(figsize=(16,10))      \n",
    "sns.heatmap (data=hr.corr(), annot=True, fmt='.2f', linewidths=.5, cmap='Blues')\n"
   ]
  },
  {
   "cell_type": "code",
   "execution_count": null,
   "metadata": {},
   "outputs": [],
   "source": [
    "#8개의 파생변수 생성"
   ]
  },
  {
   "cell_type": "code",
   "execution_count": 14,
   "metadata": {},
   "outputs": [
    {
     "name": "stdout",
     "output_type": "stream",
     "text": [
      "<class 'pandas.core.frame.DataFrame'>\n",
      "RangeIndex: 1470 entries, 0 to 1469\n",
      "Data columns (total 32 columns):\n",
      " #   Column                    Non-Null Count  Dtype \n",
      "---  ------                    --------------  ----- \n",
      " 0   Age                       1470 non-null   int64 \n",
      " 1   Attrition                 1470 non-null   int64 \n",
      " 2   BusinessTravel            1470 non-null   object\n",
      " 3   DailyRate                 1470 non-null   int64 \n",
      " 4   Department                1470 non-null   object\n",
      " 5   DistanceFromHome          1470 non-null   int64 \n",
      " 6   Education                 1470 non-null   int64 \n",
      " 7   EducationField            1470 non-null   object\n",
      " 8   EmployeeNumber            1470 non-null   int64 \n",
      " 9   EnvironmentSatisfaction   1470 non-null   int64 \n",
      " 10  Gender                    1470 non-null   object\n",
      " 11  HourlyRate                1470 non-null   int64 \n",
      " 12  JobInvolvement            1470 non-null   int64 \n",
      " 13  JobLevel                  1470 non-null   int64 \n",
      " 14  JobRole                   1470 non-null   object\n",
      " 15  JobSatisfaction           1470 non-null   int64 \n",
      " 16  MaritalStatus             1470 non-null   object\n",
      " 17  MonthlyIncome             1470 non-null   int64 \n",
      " 18  MonthlyRate               1470 non-null   int64 \n",
      " 19  NumCompaniesWorked        1470 non-null   int64 \n",
      " 20  OverTime                  1470 non-null   object\n",
      " 21  PercentSalaryHike         1470 non-null   int64 \n",
      " 22  PerformanceRating         1470 non-null   int64 \n",
      " 23  RelationshipSatisfaction  1470 non-null   int64 \n",
      " 24  StockOptionLevel          1470 non-null   int64 \n",
      " 25  TotalWorkingYears         1470 non-null   int64 \n",
      " 26  TrainingTimesLastYear     1470 non-null   int64 \n",
      " 27  WorkLifeBalance           1470 non-null   int64 \n",
      " 28  YearsAtCompany            1470 non-null   int64 \n",
      " 29  YearsInCurrentRole        1470 non-null   int64 \n",
      " 30  YearsSinceLastPromotion   1470 non-null   int64 \n",
      " 31  YearsWithCurrManager      1470 non-null   int64 \n",
      "dtypes: int64(25), object(7)\n",
      "memory usage: 367.6+ KB\n"
     ]
    }
   ],
   "source": [
    "import pandas as pd\n",
    "hr = pd.read_csv(\"c:\\\\data\\\\attrition data.csv\")\n",
    "hr=hr.drop(['Over18', 'StandardHours','EmployeeCount'], axis=1)\n",
    "hr['Attrition']=hr['Attrition'].replace({'No': 0, 'Yes': 1})\n",
    "\n",
    "hr.info()  #32"
   ]
  },
  {
   "cell_type": "code",
   "execution_count": 15,
   "metadata": {},
   "outputs": [
    {
     "name": "stdout",
     "output_type": "stream",
     "text": [
      "<class 'pandas.core.frame.DataFrame'>\n",
      "RangeIndex: 1470 entries, 0 to 1469\n",
      "Data columns (total 33 columns):\n",
      " #   Column                    Non-Null Count  Dtype \n",
      "---  ------                    --------------  ----- \n",
      " 0   Age                       1470 non-null   int64 \n",
      " 1   Attrition                 1470 non-null   int64 \n",
      " 2   BusinessTravel            1470 non-null   object\n",
      " 3   DailyRate                 1470 non-null   int64 \n",
      " 4   Department                1470 non-null   object\n",
      " 5   DistanceFromHome          1470 non-null   int64 \n",
      " 6   Education                 1470 non-null   int64 \n",
      " 7   EducationField            1470 non-null   object\n",
      " 8   EmployeeNumber            1470 non-null   int64 \n",
      " 9   EnvironmentSatisfaction   1470 non-null   int64 \n",
      " 10  Gender                    1470 non-null   object\n",
      " 11  HourlyRate                1470 non-null   int64 \n",
      " 12  JobInvolvement            1470 non-null   int64 \n",
      " 13  JobLevel                  1470 non-null   int64 \n",
      " 14  JobRole                   1470 non-null   object\n",
      " 15  JobSatisfaction           1470 non-null   int64 \n",
      " 16  MaritalStatus             1470 non-null   object\n",
      " 17  MonthlyIncome             1470 non-null   int64 \n",
      " 18  MonthlyRate               1470 non-null   int64 \n",
      " 19  NumCompaniesWorked        1470 non-null   int64 \n",
      " 20  OverTime                  1470 non-null   object\n",
      " 21  PercentSalaryHike         1470 non-null   int64 \n",
      " 22  PerformanceRating         1470 non-null   int64 \n",
      " 23  RelationshipSatisfaction  1470 non-null   int64 \n",
      " 24  StockOptionLevel          1470 non-null   int64 \n",
      " 25  TotalWorkingYears         1470 non-null   int64 \n",
      " 26  TrainingTimesLastYear     1470 non-null   int64 \n",
      " 27  WorkLifeBalance           1470 non-null   int64 \n",
      " 28  YearsAtCompany            1470 non-null   int64 \n",
      " 29  YearsInCurrentRole        1470 non-null   int64 \n",
      " 30  YearsSinceLastPromotion   1470 non-null   int64 \n",
      " 31  YearsWithCurrManager      1470 non-null   int64 \n",
      " 32  MW1                       1470 non-null   int32 \n",
      "dtypes: int32(1), int64(25), object(7)\n",
      "memory usage: 373.4+ KB\n"
     ]
    }
   ],
   "source": [
    "#1. 결혼을 했는데(가정이 있는데) 워라벨이 낮다면?\n",
    "\n",
    "mask1=(hr['MaritalStatus']=='Married')&(hr['WorkLifeBalance'].isin([1]))\n",
    "mask1.value_counts()\n",
    "hr['MW1']=mask1.astype(int)\n",
    "hr['MW1'].value_counts()\n",
    "\n",
    "hr.info()  #33"
   ]
  },
  {
   "cell_type": "code",
   "execution_count": 16,
   "metadata": {},
   "outputs": [
    {
     "name": "stdout",
     "output_type": "stream",
     "text": [
      "<class 'pandas.core.frame.DataFrame'>\n",
      "RangeIndex: 1470 entries, 0 to 1469\n",
      "Data columns (total 34 columns):\n",
      " #   Column                    Non-Null Count  Dtype \n",
      "---  ------                    --------------  ----- \n",
      " 0   Age                       1470 non-null   int64 \n",
      " 1   Attrition                 1470 non-null   int64 \n",
      " 2   BusinessTravel            1470 non-null   object\n",
      " 3   DailyRate                 1470 non-null   int64 \n",
      " 4   Department                1470 non-null   object\n",
      " 5   DistanceFromHome          1470 non-null   int64 \n",
      " 6   Education                 1470 non-null   int64 \n",
      " 7   EducationField            1470 non-null   object\n",
      " 8   EmployeeNumber            1470 non-null   int64 \n",
      " 9   EnvironmentSatisfaction   1470 non-null   int64 \n",
      " 10  Gender                    1470 non-null   object\n",
      " 11  HourlyRate                1470 non-null   int64 \n",
      " 12  JobInvolvement            1470 non-null   int64 \n",
      " 13  JobLevel                  1470 non-null   int64 \n",
      " 14  JobRole                   1470 non-null   object\n",
      " 15  JobSatisfaction           1470 non-null   int64 \n",
      " 16  MaritalStatus             1470 non-null   object\n",
      " 17  MonthlyIncome             1470 non-null   int64 \n",
      " 18  MonthlyRate               1470 non-null   int64 \n",
      " 19  NumCompaniesWorked        1470 non-null   int64 \n",
      " 20  OverTime                  1470 non-null   object\n",
      " 21  PercentSalaryHike         1470 non-null   int64 \n",
      " 22  PerformanceRating         1470 non-null   int64 \n",
      " 23  RelationshipSatisfaction  1470 non-null   int64 \n",
      " 24  StockOptionLevel          1470 non-null   int64 \n",
      " 25  TotalWorkingYears         1470 non-null   int64 \n",
      " 26  TrainingTimesLastYear     1470 non-null   int64 \n",
      " 27  WorkLifeBalance           1470 non-null   int64 \n",
      " 28  YearsAtCompany            1470 non-null   int64 \n",
      " 29  YearsInCurrentRole        1470 non-null   int64 \n",
      " 30  YearsSinceLastPromotion   1470 non-null   int64 \n",
      " 31  YearsWithCurrManager      1470 non-null   int64 \n",
      " 32  MW1                       1470 non-null   int32 \n",
      " 33  JJ2                       1470 non-null   int32 \n",
      "dtypes: int32(2), int64(25), object(7)\n",
      "memory usage: 379.1+ KB\n"
     ]
    }
   ],
   "source": [
    "#2. 업무난이도가 높은데 업무참여도가 낮다면?\n",
    "\n",
    "mask2=(hr['JobLevel'].isin([1,2]))&(hr['JobInvolvement'].isin([1]))\n",
    "mask2.value_counts()\n",
    "hr['JJ2']=mask2.astype(int)\n",
    "hr['JJ2'].value_counts()\n",
    "\n",
    "hr.info()  #34"
   ]
  },
  {
   "cell_type": "code",
   "execution_count": 17,
   "metadata": {},
   "outputs": [
    {
     "name": "stdout",
     "output_type": "stream",
     "text": [
      "<class 'pandas.core.frame.DataFrame'>\n",
      "RangeIndex: 1470 entries, 0 to 1469\n",
      "Data columns (total 35 columns):\n",
      " #   Column                    Non-Null Count  Dtype \n",
      "---  ------                    --------------  ----- \n",
      " 0   Age                       1470 non-null   int64 \n",
      " 1   Attrition                 1470 non-null   int64 \n",
      " 2   BusinessTravel            1470 non-null   object\n",
      " 3   DailyRate                 1470 non-null   int64 \n",
      " 4   Department                1470 non-null   object\n",
      " 5   DistanceFromHome          1470 non-null   int64 \n",
      " 6   Education                 1470 non-null   int64 \n",
      " 7   EducationField            1470 non-null   object\n",
      " 8   EmployeeNumber            1470 non-null   int64 \n",
      " 9   EnvironmentSatisfaction   1470 non-null   int64 \n",
      " 10  Gender                    1470 non-null   object\n",
      " 11  HourlyRate                1470 non-null   int64 \n",
      " 12  JobInvolvement            1470 non-null   int64 \n",
      " 13  JobLevel                  1470 non-null   int64 \n",
      " 14  JobRole                   1470 non-null   object\n",
      " 15  JobSatisfaction           1470 non-null   int64 \n",
      " 16  MaritalStatus             1470 non-null   object\n",
      " 17  MonthlyIncome             1470 non-null   int64 \n",
      " 18  MonthlyRate               1470 non-null   int64 \n",
      " 19  NumCompaniesWorked        1470 non-null   int64 \n",
      " 20  OverTime                  1470 non-null   object\n",
      " 21  PercentSalaryHike         1470 non-null   int64 \n",
      " 22  PerformanceRating         1470 non-null   int64 \n",
      " 23  RelationshipSatisfaction  1470 non-null   int64 \n",
      " 24  StockOptionLevel          1470 non-null   int64 \n",
      " 25  TotalWorkingYears         1470 non-null   int64 \n",
      " 26  TrainingTimesLastYear     1470 non-null   int64 \n",
      " 27  WorkLifeBalance           1470 non-null   int64 \n",
      " 28  YearsAtCompany            1470 non-null   int64 \n",
      " 29  YearsInCurrentRole        1470 non-null   int64 \n",
      " 30  YearsSinceLastPromotion   1470 non-null   int64 \n",
      " 31  YearsWithCurrManager      1470 non-null   int64 \n",
      " 32  MW1                       1470 non-null   int32 \n",
      " 33  JJ2                       1470 non-null   int32 \n",
      " 34  DJ3                       1470 non-null   int32 \n",
      "dtypes: int32(3), int64(25), object(7)\n",
      "memory usage: 384.9+ KB\n"
     ]
    }
   ],
   "source": [
    "#3. 통근거리가 멀고 초과근무비율이 높다면?\n",
    "\n",
    "dis=hr['DistanceFromHome'].mean()\n",
    "mask3=(hr['DistanceFromHome']>=dis)&(hr['JobInvolvement'].isin([1]))\n",
    "mask3.value_counts()\n",
    "hr['DJ3']=mask3.astype(int)\n",
    "hr['DJ3'].value_counts()\n",
    "\n",
    "hr.info()  #35"
   ]
  },
  {
   "cell_type": "code",
   "execution_count": 18,
   "metadata": {},
   "outputs": [
    {
     "name": "stdout",
     "output_type": "stream",
     "text": [
      "<class 'pandas.core.frame.DataFrame'>\n",
      "RangeIndex: 1470 entries, 0 to 1469\n",
      "Data columns (total 36 columns):\n",
      " #   Column                    Non-Null Count  Dtype \n",
      "---  ------                    --------------  ----- \n",
      " 0   Age                       1470 non-null   int64 \n",
      " 1   Attrition                 1470 non-null   int64 \n",
      " 2   BusinessTravel            1470 non-null   object\n",
      " 3   DailyRate                 1470 non-null   int64 \n",
      " 4   Department                1470 non-null   object\n",
      " 5   DistanceFromHome          1470 non-null   int64 \n",
      " 6   Education                 1470 non-null   int64 \n",
      " 7   EducationField            1470 non-null   object\n",
      " 8   EmployeeNumber            1470 non-null   int64 \n",
      " 9   EnvironmentSatisfaction   1470 non-null   int64 \n",
      " 10  Gender                    1470 non-null   object\n",
      " 11  HourlyRate                1470 non-null   int64 \n",
      " 12  JobInvolvement            1470 non-null   int64 \n",
      " 13  JobLevel                  1470 non-null   int64 \n",
      " 14  JobRole                   1470 non-null   object\n",
      " 15  JobSatisfaction           1470 non-null   int64 \n",
      " 16  MaritalStatus             1470 non-null   object\n",
      " 17  MonthlyIncome             1470 non-null   int64 \n",
      " 18  MonthlyRate               1470 non-null   int64 \n",
      " 19  NumCompaniesWorked        1470 non-null   int64 \n",
      " 20  OverTime                  1470 non-null   object\n",
      " 21  PercentSalaryHike         1470 non-null   int64 \n",
      " 22  PerformanceRating         1470 non-null   int64 \n",
      " 23  RelationshipSatisfaction  1470 non-null   int64 \n",
      " 24  StockOptionLevel          1470 non-null   int64 \n",
      " 25  TotalWorkingYears         1470 non-null   int64 \n",
      " 26  TrainingTimesLastYear     1470 non-null   int64 \n",
      " 27  WorkLifeBalance           1470 non-null   int64 \n",
      " 28  YearsAtCompany            1470 non-null   int64 \n",
      " 29  YearsInCurrentRole        1470 non-null   int64 \n",
      " 30  YearsSinceLastPromotion   1470 non-null   int64 \n",
      " 31  YearsWithCurrManager      1470 non-null   int64 \n",
      " 32  MW1                       1470 non-null   int32 \n",
      " 33  JJ2                       1470 non-null   int32 \n",
      " 34  DJ3                       1470 non-null   int32 \n",
      " 35  MI4                       1470 non-null   int32 \n",
      "dtypes: int32(4), int64(25), object(7)\n",
      "memory usage: 390.6+ KB\n"
     ]
    }
   ],
   "source": [
    "#4. 같은 직책인데 월급이 평균보다 적다면, 회사의 대우가 만족스럽지 않다면?\n",
    "\n",
    "a = hr.groupby('JobLevel')['MonthlyIncome'].mean()\n",
    "level_income = {i:v for i,v in zip(a.index, a.values)}\n",
    "hr['income_mean'] = hr['JobLevel'].map(level_income)\n",
    "\n",
    "hr[['JobLevel','MonthlyIncome','income_mean']]\n",
    "\n",
    "hr['MI4'] = (hr['MonthlyIncome'] < hr['income_mean']).astype(int)\n",
    "hr['MI4']\n",
    "\n",
    "hr=hr.drop(['income_mean'], axis=1)\n",
    "\n",
    "hr.info()  #36"
   ]
  },
  {
   "cell_type": "code",
   "execution_count": 19,
   "metadata": {},
   "outputs": [
    {
     "name": "stdout",
     "output_type": "stream",
     "text": [
      "<class 'pandas.core.frame.DataFrame'>\n",
      "RangeIndex: 1470 entries, 0 to 1469\n",
      "Data columns (total 37 columns):\n",
      " #   Column                    Non-Null Count  Dtype \n",
      "---  ------                    --------------  ----- \n",
      " 0   Age                       1470 non-null   int64 \n",
      " 1   Attrition                 1470 non-null   int64 \n",
      " 2   BusinessTravel            1470 non-null   object\n",
      " 3   DailyRate                 1470 non-null   int64 \n",
      " 4   Department                1470 non-null   object\n",
      " 5   DistanceFromHome          1470 non-null   int64 \n",
      " 6   Education                 1470 non-null   int64 \n",
      " 7   EducationField            1470 non-null   object\n",
      " 8   EmployeeNumber            1470 non-null   int64 \n",
      " 9   EnvironmentSatisfaction   1470 non-null   int64 \n",
      " 10  Gender                    1470 non-null   object\n",
      " 11  HourlyRate                1470 non-null   int64 \n",
      " 12  JobInvolvement            1470 non-null   int64 \n",
      " 13  JobLevel                  1470 non-null   int64 \n",
      " 14  JobRole                   1470 non-null   object\n",
      " 15  JobSatisfaction           1470 non-null   int64 \n",
      " 16  MaritalStatus             1470 non-null   object\n",
      " 17  MonthlyIncome             1470 non-null   int64 \n",
      " 18  MonthlyRate               1470 non-null   int64 \n",
      " 19  NumCompaniesWorked        1470 non-null   int64 \n",
      " 20  OverTime                  1470 non-null   object\n",
      " 21  PercentSalaryHike         1470 non-null   int64 \n",
      " 22  PerformanceRating         1470 non-null   int64 \n",
      " 23  RelationshipSatisfaction  1470 non-null   int64 \n",
      " 24  StockOptionLevel          1470 non-null   int64 \n",
      " 25  TotalWorkingYears         1470 non-null   int64 \n",
      " 26  TrainingTimesLastYear     1470 non-null   int64 \n",
      " 27  WorkLifeBalance           1470 non-null   int64 \n",
      " 28  YearsAtCompany            1470 non-null   int64 \n",
      " 29  YearsInCurrentRole        1470 non-null   int64 \n",
      " 30  YearsSinceLastPromotion   1470 non-null   int64 \n",
      " 31  YearsWithCurrManager      1470 non-null   int64 \n",
      " 32  MW1                       1470 non-null   int32 \n",
      " 33  JJ2                       1470 non-null   int32 \n",
      " 34  DJ3                       1470 non-null   int32 \n",
      " 35  MI4                       1470 non-null   int32 \n",
      " 36  AJ5                       1470 non-null   int32 \n",
      "dtypes: int32(5), int64(25), object(7)\n",
      "memory usage: 396.3+ KB\n"
     ]
    }
   ],
   "source": [
    "#5. 나이가 어린데 직무만족도가 낮다면 새로운 도전?\n",
    "\n",
    "mask5=(hr['Age']<=30)&(hr['JobSatisfaction'].isin([1]))\n",
    "mask5.value_counts()\n",
    "hr['AJ5']=mask5.astype(int)\n",
    "\n",
    "hr.info()  #37"
   ]
  },
  {
   "cell_type": "code",
   "execution_count": 20,
   "metadata": {},
   "outputs": [
    {
     "name": "stdout",
     "output_type": "stream",
     "text": [
      "<class 'pandas.core.frame.DataFrame'>\n",
      "RangeIndex: 1470 entries, 0 to 1469\n",
      "Data columns (total 38 columns):\n",
      " #   Column                    Non-Null Count  Dtype \n",
      "---  ------                    --------------  ----- \n",
      " 0   Age                       1470 non-null   int64 \n",
      " 1   Attrition                 1470 non-null   int64 \n",
      " 2   BusinessTravel            1470 non-null   object\n",
      " 3   DailyRate                 1470 non-null   int64 \n",
      " 4   Department                1470 non-null   object\n",
      " 5   DistanceFromHome          1470 non-null   int64 \n",
      " 6   Education                 1470 non-null   int64 \n",
      " 7   EducationField            1470 non-null   object\n",
      " 8   EmployeeNumber            1470 non-null   int64 \n",
      " 9   EnvironmentSatisfaction   1470 non-null   int64 \n",
      " 10  Gender                    1470 non-null   object\n",
      " 11  HourlyRate                1470 non-null   int64 \n",
      " 12  JobInvolvement            1470 non-null   int64 \n",
      " 13  JobLevel                  1470 non-null   int64 \n",
      " 14  JobRole                   1470 non-null   object\n",
      " 15  JobSatisfaction           1470 non-null   int64 \n",
      " 16  MaritalStatus             1470 non-null   object\n",
      " 17  MonthlyIncome             1470 non-null   int64 \n",
      " 18  MonthlyRate               1470 non-null   int64 \n",
      " 19  NumCompaniesWorked        1470 non-null   int64 \n",
      " 20  OverTime                  1470 non-null   object\n",
      " 21  PercentSalaryHike         1470 non-null   int64 \n",
      " 22  PerformanceRating         1470 non-null   int64 \n",
      " 23  RelationshipSatisfaction  1470 non-null   int64 \n",
      " 24  StockOptionLevel          1470 non-null   int64 \n",
      " 25  TotalWorkingYears         1470 non-null   int64 \n",
      " 26  TrainingTimesLastYear     1470 non-null   int64 \n",
      " 27  WorkLifeBalance           1470 non-null   int64 \n",
      " 28  YearsAtCompany            1470 non-null   int64 \n",
      " 29  YearsInCurrentRole        1470 non-null   int64 \n",
      " 30  YearsSinceLastPromotion   1470 non-null   int64 \n",
      " 31  YearsWithCurrManager      1470 non-null   int64 \n",
      " 32  MW1                       1470 non-null   int32 \n",
      " 33  JJ2                       1470 non-null   int32 \n",
      " 34  DJ3                       1470 non-null   int32 \n",
      " 35  MI4                       1470 non-null   int32 \n",
      " 36  AJ5                       1470 non-null   int32 \n",
      " 37  REJ6                      1470 non-null   int32 \n",
      "dtypes: int32(6), int64(25), object(7)\n",
      "memory usage: 402.1+ KB\n"
     ]
    }
   ],
   "source": [
    "#6. 대인관계만족도, 업무환경만족도, 직무만족도가 모두 낮다면?\n",
    "\n",
    "mask6=(hr['RelationshipSatisfaction']==1)&(hr['EnvironmentSatisfaction']==1)&(hr['JobSatisfaction']==1)\n",
    "hr['REJ6']=mask6.astype(int)\n",
    "hr['REJ6'].value_counts()\n",
    "hr.info()  #38"
   ]
  },
  {
   "cell_type": "code",
   "execution_count": 21,
   "metadata": {},
   "outputs": [
    {
     "name": "stdout",
     "output_type": "stream",
     "text": [
      "<class 'pandas.core.frame.DataFrame'>\n",
      "RangeIndex: 1470 entries, 0 to 1469\n",
      "Data columns (total 39 columns):\n",
      " #   Column                    Non-Null Count  Dtype \n",
      "---  ------                    --------------  ----- \n",
      " 0   Age                       1470 non-null   int64 \n",
      " 1   Attrition                 1470 non-null   int64 \n",
      " 2   BusinessTravel            1470 non-null   object\n",
      " 3   DailyRate                 1470 non-null   int64 \n",
      " 4   Department                1470 non-null   object\n",
      " 5   DistanceFromHome          1470 non-null   int64 \n",
      " 6   Education                 1470 non-null   int64 \n",
      " 7   EducationField            1470 non-null   object\n",
      " 8   EmployeeNumber            1470 non-null   int64 \n",
      " 9   EnvironmentSatisfaction   1470 non-null   int64 \n",
      " 10  Gender                    1470 non-null   object\n",
      " 11  HourlyRate                1470 non-null   int64 \n",
      " 12  JobInvolvement            1470 non-null   int64 \n",
      " 13  JobLevel                  1470 non-null   int64 \n",
      " 14  JobRole                   1470 non-null   object\n",
      " 15  JobSatisfaction           1470 non-null   int64 \n",
      " 16  MaritalStatus             1470 non-null   object\n",
      " 17  MonthlyIncome             1470 non-null   int64 \n",
      " 18  MonthlyRate               1470 non-null   int64 \n",
      " 19  NumCompaniesWorked        1470 non-null   int64 \n",
      " 20  OverTime                  1470 non-null   object\n",
      " 21  PercentSalaryHike         1470 non-null   int64 \n",
      " 22  PerformanceRating         1470 non-null   int64 \n",
      " 23  RelationshipSatisfaction  1470 non-null   int64 \n",
      " 24  StockOptionLevel          1470 non-null   int64 \n",
      " 25  TotalWorkingYears         1470 non-null   int64 \n",
      " 26  TrainingTimesLastYear     1470 non-null   int64 \n",
      " 27  WorkLifeBalance           1470 non-null   int64 \n",
      " 28  YearsAtCompany            1470 non-null   int64 \n",
      " 29  YearsInCurrentRole        1470 non-null   int64 \n",
      " 30  YearsSinceLastPromotion   1470 non-null   int64 \n",
      " 31  YearsWithCurrManager      1470 non-null   int64 \n",
      " 32  MW1                       1470 non-null   int32 \n",
      " 33  JJ2                       1470 non-null   int32 \n",
      " 34  DJ3                       1470 non-null   int32 \n",
      " 35  MI4                       1470 non-null   int32 \n",
      " 36  AJ5                       1470 non-null   int32 \n",
      " 37  REJ6                      1470 non-null   int32 \n",
      " 38  TJM7                      1470 non-null   int32 \n",
      "dtypes: int32(7), int64(25), object(7)\n",
      "memory usage: 407.8+ KB\n"
     ]
    }
   ],
   "source": [
    "#7. 근속년수가 평균이상인데, 직급이 높지 않고, 월급은 평균이하라면?\n",
    "\n",
    "twk=hr['TotalWorkingYears'].mean()\n",
    "mm=hr['MonthlyIncome'].mean()\n",
    "\n",
    "mask7=(hr['TotalWorkingYears']>=twk)&(hr['JobLevel'].isin([1,2,3]))&(hr['MonthlyIncome']<=mm)\n",
    "mask7.value_counts()\n",
    "hr['TJM7']=mask7.astype(int)\n",
    "hr['TJM7'].value_counts()\n",
    "\n",
    "hr.info()  #39"
   ]
  },
  {
   "cell_type": "code",
   "execution_count": 22,
   "metadata": {},
   "outputs": [
    {
     "name": "stdout",
     "output_type": "stream",
     "text": [
      "<class 'pandas.core.frame.DataFrame'>\n",
      "RangeIndex: 1470 entries, 0 to 1469\n",
      "Data columns (total 40 columns):\n",
      " #   Column                    Non-Null Count  Dtype \n",
      "---  ------                    --------------  ----- \n",
      " 0   Age                       1470 non-null   int64 \n",
      " 1   Attrition                 1470 non-null   int64 \n",
      " 2   BusinessTravel            1470 non-null   object\n",
      " 3   DailyRate                 1470 non-null   int64 \n",
      " 4   Department                1470 non-null   object\n",
      " 5   DistanceFromHome          1470 non-null   int64 \n",
      " 6   Education                 1470 non-null   int64 \n",
      " 7   EducationField            1470 non-null   object\n",
      " 8   EmployeeNumber            1470 non-null   int64 \n",
      " 9   EnvironmentSatisfaction   1470 non-null   int64 \n",
      " 10  Gender                    1470 non-null   object\n",
      " 11  HourlyRate                1470 non-null   int64 \n",
      " 12  JobInvolvement            1470 non-null   int64 \n",
      " 13  JobLevel                  1470 non-null   int64 \n",
      " 14  JobRole                   1470 non-null   object\n",
      " 15  JobSatisfaction           1470 non-null   int64 \n",
      " 16  MaritalStatus             1470 non-null   object\n",
      " 17  MonthlyIncome             1470 non-null   int64 \n",
      " 18  MonthlyRate               1470 non-null   int64 \n",
      " 19  NumCompaniesWorked        1470 non-null   int64 \n",
      " 20  OverTime                  1470 non-null   object\n",
      " 21  PercentSalaryHike         1470 non-null   int64 \n",
      " 22  PerformanceRating         1470 non-null   int64 \n",
      " 23  RelationshipSatisfaction  1470 non-null   int64 \n",
      " 24  StockOptionLevel          1470 non-null   int64 \n",
      " 25  TotalWorkingYears         1470 non-null   int64 \n",
      " 26  TrainingTimesLastYear     1470 non-null   int64 \n",
      " 27  WorkLifeBalance           1470 non-null   int64 \n",
      " 28  YearsAtCompany            1470 non-null   int64 \n",
      " 29  YearsInCurrentRole        1470 non-null   int64 \n",
      " 30  YearsSinceLastPromotion   1470 non-null   int64 \n",
      " 31  YearsWithCurrManager      1470 non-null   int64 \n",
      " 32  MW1                       1470 non-null   int32 \n",
      " 33  JJ2                       1470 non-null   int32 \n",
      " 34  DJ3                       1470 non-null   int32 \n",
      " 35  MI4                       1470 non-null   int32 \n",
      " 36  AJ5                       1470 non-null   int32 \n",
      " 37  REJ6                      1470 non-null   int32 \n",
      " 38  TJM7                      1470 non-null   int32 \n",
      " 39  PP8                       1470 non-null   int32 \n",
      "dtypes: int32(8), int64(25), object(7)\n",
      "memory usage: 413.6+ KB\n"
     ]
    }
   ],
   "source": [
    "#8. 성과등급이 최고점인데(약 상위 15%), 연봉인상률(약 상위 15%)은 그에 상응하지 않는다면? \n",
    "\n",
    "ps=hr['PercentSalaryHike'].mean()\n",
    "#hr['PerformanceRating'].value_counts()    # 4점, 226   #전체 약 15%\n",
    "\n",
    "kk=hr['PercentSalaryHike'].sort_values(ascending=False).head(226)\n",
    "kk2=kk.mean()   #21.849557522123895   # performancerating 상위 15%의 연봉인상률 평균\n",
    "\n",
    "mask8=(hr['PerformanceRating']==4)&(hr['PercentSalaryHike']<=kk2)\n",
    "mask8.value_counts()\n",
    "hr['PP8']=mask8.astype(int)\n",
    "hr['PP8'].value_counts()\n",
    "\n",
    "hr.info()  #40"
   ]
  },
  {
   "cell_type": "code",
   "execution_count": 23,
   "metadata": {},
   "outputs": [
    {
     "name": "stdout",
     "output_type": "stream",
     "text": [
      "<class 'pandas.core.frame.DataFrame'>\n",
      "RangeIndex: 1470 entries, 0 to 1469\n",
      "Data columns (total 39 columns):\n",
      " #   Column                    Non-Null Count  Dtype \n",
      "---  ------                    --------------  ----- \n",
      " 0   Age                       1470 non-null   int64 \n",
      " 1   BusinessTravel            1470 non-null   object\n",
      " 2   DailyRate                 1470 non-null   int64 \n",
      " 3   Department                1470 non-null   object\n",
      " 4   DistanceFromHome          1470 non-null   int64 \n",
      " 5   Education                 1470 non-null   int64 \n",
      " 6   EducationField            1470 non-null   object\n",
      " 7   EmployeeNumber            1470 non-null   int64 \n",
      " 8   EnvironmentSatisfaction   1470 non-null   int64 \n",
      " 9   Gender                    1470 non-null   object\n",
      " 10  HourlyRate                1470 non-null   int64 \n",
      " 11  JobInvolvement            1470 non-null   int64 \n",
      " 12  JobLevel                  1470 non-null   int64 \n",
      " 13  JobRole                   1470 non-null   object\n",
      " 14  JobSatisfaction           1470 non-null   int64 \n",
      " 15  MaritalStatus             1470 non-null   object\n",
      " 16  MonthlyIncome             1470 non-null   int64 \n",
      " 17  MonthlyRate               1470 non-null   int64 \n",
      " 18  NumCompaniesWorked        1470 non-null   int64 \n",
      " 19  OverTime                  1470 non-null   object\n",
      " 20  PercentSalaryHike         1470 non-null   int64 \n",
      " 21  PerformanceRating         1470 non-null   int64 \n",
      " 22  RelationshipSatisfaction  1470 non-null   int64 \n",
      " 23  StockOptionLevel          1470 non-null   int64 \n",
      " 24  TotalWorkingYears         1470 non-null   int64 \n",
      " 25  TrainingTimesLastYear     1470 non-null   int64 \n",
      " 26  WorkLifeBalance           1470 non-null   int64 \n",
      " 27  YearsAtCompany            1470 non-null   int64 \n",
      " 28  YearsInCurrentRole        1470 non-null   int64 \n",
      " 29  YearsSinceLastPromotion   1470 non-null   int64 \n",
      " 30  YearsWithCurrManager      1470 non-null   int64 \n",
      " 31  MW1                       1470 non-null   int32 \n",
      " 32  JJ2                       1470 non-null   int32 \n",
      " 33  DJ3                       1470 non-null   int32 \n",
      " 34  MI4                       1470 non-null   int32 \n",
      " 35  AJ5                       1470 non-null   int32 \n",
      " 36  REJ6                      1470 non-null   int32 \n",
      " 37  TJM7                      1470 non-null   int32 \n",
      " 38  PP8                       1470 non-null   int32 \n",
      "dtypes: int32(8), int64(24), object(7)\n",
      "memory usage: 402.1+ KB\n"
     ]
    }
   ],
   "source": [
    "hr2=hr.drop('Attrition', axis=1)  # 정답컬럼 제외한 hr2\n",
    "hr2.info()"
   ]
  },
  {
   "cell_type": "code",
   "execution_count": 24,
   "metadata": {},
   "outputs": [],
   "source": [
    "hr2=pd.get_dummies(hr2)\n",
    "x=hr2.to_numpy()                   \n",
    "y=hr['Attrition'].to_numpy()     "
   ]
  },
  {
   "cell_type": "code",
   "execution_count": 25,
   "metadata": {},
   "outputs": [],
   "source": [
    "from sklearn.model_selection import train_test_split\n",
    "x_train, x_test, y_train, y_test = train_test_split(x, y, test_size=.1, stratify=y, random_state=1)"
   ]
  },
  {
   "cell_type": "code",
   "execution_count": 26,
   "metadata": {},
   "outputs": [],
   "source": [
    "from sklearn.preprocessing import MinMaxScaler\n",
    "scaler=MinMaxScaler()\n",
    "scaler.fit(x_train)\n",
    "x_train2=scaler.transform(x_train)\n",
    "x_test2=scaler.transform(x_test)"
   ]
  },
  {
   "cell_type": "code",
   "execution_count": null,
   "metadata": {},
   "outputs": [],
   "source": [
    "# 파생변수를 추가한 데이터로 머신러닝 모델 생성\n",
    "# 정확도가 가장 높았던 MLP와 앙상블(Boosting)으로 모델훈련, 정확도 출력"
   ]
  },
  {
   "cell_type": "code",
   "execution_count": 143,
   "metadata": {},
   "outputs": [
    {
     "name": "stdout",
     "output_type": "stream",
     "text": [
      "Fitting 3 folds for each of 48 candidates, totalling 144 fits\n"
     ]
    },
    {
     "name": "stderr",
     "output_type": "stream",
     "text": [
      "[Parallel(n_jobs=-1)]: Using backend LokyBackend with 12 concurrent workers.\n",
      "[Parallel(n_jobs=-1)]: Done  17 tasks      | elapsed:    5.7s\n",
      "[Parallel(n_jobs=-1)]: Done 144 out of 144 | elapsed:   54.7s finished\n"
     ]
    },
    {
     "name": "stdout",
     "output_type": "stream",
     "text": [
      "89.87150415721844\n",
      "91.83673469387756\n",
      "{'activation': 'logistic', 'hidden_layer_sizes': (100, 100), 'solver': 'adam'}\n"
     ]
    },
    {
     "name": "stderr",
     "output_type": "stream",
     "text": [
      "C:\\Users\\snrnq\\anaconda3\\lib\\site-packages\\sklearn\\neural_network\\_multilayer_perceptron.py:582: ConvergenceWarning: Stochastic Optimizer: Maximum iterations (200) reached and the optimization hasn't converged yet.\n",
      "  warnings.warn(\n"
     ]
    }
   ],
   "source": [
    "# 파생변수를 추가한 후 열번째 머신러닝모델 MLP\n",
    "\n",
    "from sklearn.model_selection import GridSearchCV\n",
    "\n",
    "param_grid = [ { 'hidden_layer_sizes' : [ (100, 50), (100, 150), (100,100), (200,200)],\n",
    "                  'activation' : ['identity', 'logistic', 'tanh', 'relu'],\n",
    "                  'solver' : ['lbfgs', 'sgd', 'adam']} ]\n",
    "grid10= GridSearchCV(MLPClassifier( random_state=1), param_grid, cv=3, refit=True, n_jobs=-1,verbose=2)\n",
    "grid10.fit(x_train2, y_train)\n",
    "result10 = grid10.predict(x_test2)\n",
    "\n",
    "print(grid10.score(x_train2, y_train)*100)        #89.87150415721844\n",
    "print(sum(result10==y_test)/len(y_test)*100)      #91.83673469387756\n",
    "\n",
    "print(grid10.best_params_)                         #{'activation': 'logistic', 'hidden_layer_sizes': (100, 100), 'solver': 'adam'}"
   ]
  },
  {
   "cell_type": "code",
   "execution_count": 144,
   "metadata": {},
   "outputs": [
    {
     "name": "stdout",
     "output_type": "stream",
     "text": [
      "정확도 0.9183673469387755\n",
      "카파통계량 0.6908517350157728\n",
      "민감도 0.7083333333333334\n",
      "특이도 0.7083333333333334\n",
      "정밀도 0.7727272727272727\n",
      "재현율 0.7083333333333334\n"
     ]
    }
   ],
   "source": [
    "#정확도\n",
    "from  sklearn.metrics  import  accuracy_score\n",
    "acurracy = accuracy_score( y_test, result10)\n",
    "print('정확도', acurracy)\n",
    "\n",
    "#카파통계량\n",
    "from sklearn.metrics import cohen_kappa_score\n",
    "kappa=cohen_kappa_score(y_test, result10)\n",
    "print('카파통계량',kappa )\n",
    "\n",
    "#민감도 #실제로 '긍정'인 범주 중에서 '긍정'으로 올바르게 예측한 비율 =재현율\n",
    "from sklearn.metrics import recall_score\n",
    "print('민감도', recall_score(y_test, result10, pos_label=1)) \n",
    "\n",
    "#특이도 #실제로 '부정'인 범주 중에서 '부정'으로 올바르게 예측한 비율\n",
    "from sklearn.metrics import confusion_matrix\n",
    "tn, fp, fn, tp= confusion_matrix( y_test, result10 ).ravel()\n",
    "sensitivity=tp/(tp+fn)                            \n",
    "print('특이도', sensitivity)\n",
    "\n",
    "#정밀도 '긍정'으로 예측한 것 중에서 실제로 '긍정'인 것의 비율\n",
    "precision = tp/(tp+fp)\n",
    "print('정밀도', precision)\n",
    "\n",
    "#재현율\n",
    "recall = tp/(tp+fn)\n",
    "print('재현율', recall)"
   ]
  },
  {
   "cell_type": "code",
   "execution_count": 146,
   "metadata": {
    "scrolled": true
   },
   "outputs": [
    {
     "name": "stdout",
     "output_type": "stream",
     "text": [
      "90.32501889644747\n",
      "93.19727891156462\n"
     ]
    }
   ],
   "source": [
    "# 앙상블(Boosting)\n",
    "\n",
    "from sklearn.ensemble import AdaBoostClassifier\n",
    "model11=AdaBoostClassifier(n_estimators=46, learning_rate=1.0, random_state=1)\n",
    "\n",
    "#모델 훈련\n",
    "model11.fit(x_train2, y_train)\n",
    "\n",
    "#모델 예측\n",
    "result11=model11.predict(x_test2)\n",
    "\n",
    "#모델 평가\n",
    "print(model11.score(x_train2, y_train)*100)    #훈련 데이터   90.32501889644747\n",
    "print(model11.score(x_test2, y_test)*100)     #테스트 데이터  93.19727891156462"
   ]
  },
  {
   "cell_type": "code",
   "execution_count": 147,
   "metadata": {},
   "outputs": [
    {
     "name": "stdout",
     "output_type": "stream",
     "text": [
      "정확도 0.9319727891156463\n",
      "카파통계량 0.7231638418079096\n",
      "민감도 0.6666666666666666\n",
      "특이도 0.6666666666666666\n",
      "정밀도 0.8888888888888888\n",
      "재현율 0.6666666666666666\n"
     ]
    }
   ],
   "source": [
    "#정확도\n",
    "from  sklearn.metrics  import  accuracy_score\n",
    "acurracy = accuracy_score( y_test, result11)\n",
    "print('정확도', acurracy)\n",
    "\n",
    "#카파통계량\n",
    "from sklearn.metrics import cohen_kappa_score\n",
    "kappa=cohen_kappa_score(y_test, result11)\n",
    "print('카파통계량',kappa )\n",
    "\n",
    "#민감도 #실제로 '긍정'인 범주 중에서 '긍정'으로 올바르게 예측한 비율 =재현율\n",
    "from sklearn.metrics import recall_score\n",
    "print('민감도', recall_score(y_test, result11, pos_label=1)) \n",
    "\n",
    "#특이도 #실제로 '부정'인 범주 중에서 '부정'으로 올바르게 예측한 비율\n",
    "from sklearn.metrics import confusion_matrix\n",
    "tn, fp, fn, tp= confusion_matrix( y_test, result11 ).ravel()\n",
    "sensitivity=tp/(tp+fn)                            \n",
    "print('특이도', sensitivity)\n",
    "\n",
    "#정밀도 '긍정'으로 예측한 것 중에서 실제로 '긍정'인 것의 비율\n",
    "precision = tp/(tp+fp)\n",
    "print('정밀도', precision)\n",
    "\n",
    "#재현율\n",
    "recall = tp/(tp+fn)\n",
    "print('재현율', recall)"
   ]
  }
 ],
 "metadata": {
  "kernelspec": {
   "display_name": "Python 3",
   "language": "python",
   "name": "python3"
  },
  "language_info": {
   "codemirror_mode": {
    "name": "ipython",
    "version": 3
   },
   "file_extension": ".py",
   "mimetype": "text/x-python",
   "name": "python",
   "nbconvert_exporter": "python",
   "pygments_lexer": "ipython3",
   "version": "3.8.5"
  }
 },
 "nbformat": 4,
 "nbformat_minor": 4
}
